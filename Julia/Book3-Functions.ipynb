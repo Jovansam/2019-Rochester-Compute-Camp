{
 "cells": [
  {
   "cell_type": "markdown",
   "metadata": {},
   "source": [
    "Functions are central to the design of Julia code. They are very easy to construct."
   ]
  },
  {
   "cell_type": "code",
   "execution_count": 1,
   "metadata": {},
   "outputs": [
    {
     "data": {
      "text/plain": [
       "f (generic function with 1 method)"
      ]
     },
     "execution_count": 1,
     "metadata": {},
     "output_type": "execute_result"
    }
   ],
   "source": [
    "function f(x)\n",
    "    return x ^ 2\n",
    "end\n",
    "## equivalent and simpler to write\n",
    "f(x) = x^2"
   ]
  },
  {
   "cell_type": "code",
   "execution_count": 2,
   "metadata": {},
   "outputs": [
    {
     "data": {
      "text/plain": [
       "9"
      ]
     },
     "execution_count": 2,
     "metadata": {},
     "output_type": "execute_result"
    }
   ],
   "source": [
    "f(3)"
   ]
  },
  {
   "cell_type": "markdown",
   "metadata": {},
   "source": [
    "At this point I should mention multiple dispatch. The function above is quite generic. It will accept a float, an int, and anything else which supports the ^ function. "
   ]
  },
  {
   "cell_type": "code",
   "execution_count": 3,
   "metadata": {},
   "outputs": [
    {
     "name": "stdout",
     "output_type": "stream",
     "text": [
      "f(3) = 9\n",
      "f(3.5) = 12.25\n",
      "f(\"hello \") = \"hello hello \"\n"
     ]
    },
    {
     "data": {
      "text/plain": [
       "\"hello hello \""
      ]
     },
     "execution_count": 3,
     "metadata": {},
     "output_type": "execute_result"
    }
   ],
   "source": [
    "@show f(3)\n",
    "@show f(3.5)\n",
    "@show f(\"hello \")"
   ]
  },
  {
   "cell_type": "markdown",
   "metadata": {},
   "source": [
    "Multiple dispatch means that functions will dispatch different methods depending on the types of the arguments. For example, we could define a function which does something completely different depending on the type."
   ]
  },
  {
   "cell_type": "code",
   "execution_count": 4,
   "metadata": {},
   "outputs": [
    {
     "name": "stdout",
     "output_type": "stream",
     "text": [
      "g(3.5) = \"I'm the float 3.5\"\n",
      "g(3) = \"I'm an int\"\n",
      "g(\"hello \") = \"I'm the string hello \"\n"
     ]
    },
    {
     "data": {
      "text/plain": [
       "\"I'm the string hello \""
      ]
     },
     "execution_count": 4,
     "metadata": {},
     "output_type": "execute_result"
    }
   ],
   "source": [
    "g(x::Float64) = \"I'm the float $x\"\n",
    "g(x::Int) = \"I'm an int\"\n",
    "g(x::String) = \"I'm the string $x\"\n",
    "@show g(3.5)\n",
    "@show g(3)\n",
    "@show g(\"hello \")"
   ]
  },
  {
   "cell_type": "markdown",
   "metadata": {},
   "source": [
    "Here are some useful array functions. Note that maximum is for arrays, max is for comparing two things, like max(a, b) where a and b are numbers. To compare arrays, use the dot notation."
   ]
  },
  {
   "cell_type": "code",
   "execution_count": 5,
   "metadata": {},
   "outputs": [
    {
     "name": "stdout",
     "output_type": "stream",
     "text": [
      "maximum(A) = 5\n",
      "max.(A, B) = [10, 6, 5]\n"
     ]
    }
   ],
   "source": [
    "A = [1\n",
    "    3\n",
    "    5]\n",
    "@show maximum(A)\n",
    "B = [10 \n",
    "    6 \n",
    "    4]\n",
    "@show max.(A, B);"
   ]
  },
  {
   "cell_type": "markdown",
   "metadata": {},
   "source": [
    "There is no concept of optional return values like in Matlab. If we want the index, we should use findmax, which returns a Tuple."
   ]
  },
  {
   "cell_type": "code",
   "execution_count": 6,
   "metadata": {},
   "outputs": [
    {
     "name": "stdout",
     "output_type": "stream",
     "text": [
      "out = findmax(A) = (5, 3)\n",
      "typeof(out) = Tuple{Int64,Int64}\n"
     ]
    }
   ],
   "source": [
    "@show out = findmax(A)\n",
    "@show typeof(out);"
   ]
  },
  {
   "cell_type": "markdown",
   "metadata": {},
   "source": [
    "A Tuple is just a collection of variables. You can access its fields as if it were an array."
   ]
  },
  {
   "cell_type": "code",
   "execution_count": 7,
   "metadata": {},
   "outputs": [
    {
     "data": {
      "text/plain": [
       "5"
      ]
     },
     "execution_count": 7,
     "metadata": {},
     "output_type": "execute_result"
    }
   ],
   "source": [
    "out[1]"
   ]
  },
  {
   "cell_type": "code",
   "execution_count": 8,
   "metadata": {},
   "outputs": [
    {
     "name": "stdout",
     "output_type": "stream",
     "text": [
      "out2[1] = 5\n",
      "out2.name1 = 5\n"
     ]
    }
   ],
   "source": [
    "# FYI there are also Named Tuples, which are Tuples with names. They are often convenient because you can access\n",
    "# their fields by name\n",
    "out2 = (name1 = 5, name2 = 3)\n",
    "@show out2[1]\n",
    "@show out2.name1;"
   ]
  },
  {
   "cell_type": "markdown",
   "metadata": {},
   "source": [
    "# Array copying and assignment -- VERY IMPORTANT!!!!!!!!!!\n",
    "\n",
    "Julia handles arrays by reference, like C. This is very different from Matlab. If you are not careful, you will make serious and hard to debug errors. However, once you get used to it this is very convenient.\n",
    "\n",
    "In particular, functions in Julia can modify their array arguments. We saw this earlier with the push! function"
   ]
  },
  {
   "cell_type": "code",
   "execution_count": 9,
   "metadata": {},
   "outputs": [
    {
     "name": "stdout",
     "output_type": "stream",
     "text": [
      "A = [0.131096, 0.197749, 0.801814, 0.395644, 0.178563]\n",
      "A = [0.131096, 0.197749, 0.801814, 0.395644, 0.178563, 5.0]\n"
     ]
    }
   ],
   "source": [
    "A = rand(5)\n",
    "@show A\n",
    "push!(A, 5)\n",
    "@show A;"
   ]
  },
  {
   "cell_type": "markdown",
   "metadata": {},
   "source": [
    "This sort of behavior is impossible in Matlab. The push! function didn't even return anything, but its input was modified. Functions which modify their arguments by convention will have a ! at the end(see push!), but this is not a requirement.\n",
    "\n",
    "FYI functions in Julia cannot modify scalar arguments. Arrays are special--they are explicitly defined as mutable.\n",
    "\n",
    "Another common error is array copying, or rather the lack of copying done by Julia."
   ]
  },
  {
   "cell_type": "code",
   "execution_count": 10,
   "metadata": {},
   "outputs": [
    {
     "name": "stdout",
     "output_type": "stream",
     "text": [
      "A = [0.995721, 0.15035, 0.920833, 0.544955, 0.59552]\n",
      "B = [0.995721, 0.15035, 0.920833, 0.544955, 0.59552]\n"
     ]
    }
   ],
   "source": [
    "A = rand(5)\n",
    "B = A\n",
    "@show A\n",
    "@show B;"
   ]
  },
  {
   "cell_type": "markdown",
   "metadata": {},
   "source": [
    "The above is the same thing you would get in Matlab. A and B are the same. However, the following is NOT what you would get in Matlab."
   ]
  },
  {
   "cell_type": "code",
   "execution_count": 11,
   "metadata": {},
   "outputs": [
    {
     "name": "stdout",
     "output_type": "stream",
     "text": [
      "A = [0.995721, 0.15035, 0.920833, 0.544955, 5.0]\n",
      "B = [0.995721, 0.15035, 0.920833, 0.544955, 5.0]\n"
     ]
    }
   ],
   "source": [
    "A[5] = 5\n",
    "@show A\n",
    "@show B;"
   ]
  },
  {
   "cell_type": "markdown",
   "metadata": {},
   "source": [
    "The point here is that in Julia, A and B are literally the same array. They are a pointer to the same location in memory, so any changes to one affect the other (obviously, because they are the same).\n",
    "\n",
    "In Matlab, B = A creates a copy of A. We can replicate that in Julia with copy"
   ]
  },
  {
   "cell_type": "code",
   "execution_count": 12,
   "metadata": {},
   "outputs": [
    {
     "name": "stdout",
     "output_type": "stream",
     "text": [
      "A = [0.372508, 0.325154, 0.523742, 0.782687, 0.0763446]\n",
      "B = [0.372508, 0.325154, 0.523742, 0.782687, 0.0763446]\n",
      "A = [0.372508, 0.325154, 0.523742, 0.782687, 5.0]\n",
      "B = [0.372508, 0.325154, 0.523742, 0.782687, 0.0763446]\n"
     ]
    }
   ],
   "source": [
    "A = rand(5)\n",
    "B = copy(A)\n",
    "@show A \n",
    "@show B\n",
    "A[5] = 5\n",
    "@show A\n",
    "@show B;"
   ]
  }
 ],
 "metadata": {
  "@webio": {
   "lastCommId": null,
   "lastKernelId": null
  },
  "kernelspec": {
   "display_name": "Julia 1.1.1",
   "language": "julia",
   "name": "julia-1.1"
  },
  "language_info": {
   "file_extension": ".jl",
   "mimetype": "application/julia",
   "name": "julia",
   "version": "1.1.1"
  }
 },
 "nbformat": 4,
 "nbformat_minor": 2
}
