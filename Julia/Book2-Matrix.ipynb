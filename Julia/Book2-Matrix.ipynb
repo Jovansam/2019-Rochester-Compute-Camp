{
 "cells": [
  {
   "cell_type": "markdown",
   "metadata": {},
   "source": [
    "To create an array, seperate the elements with a comma or space."
   ]
  },
  {
   "cell_type": "code",
   "execution_count": 58,
   "metadata": {},
   "outputs": [
    {
     "data": {
      "text/plain": [
       "1×4 Array{Int64,2}:\n",
       " 1  2  3  4"
      ]
     },
     "execution_count": 58,
     "metadata": {},
     "output_type": "execute_result"
    }
   ],
   "source": [
    "A = [1 2 3 4]"
   ]
  },
  {
   "cell_type": "markdown",
   "metadata": {},
   "source": [
    "This constructs a two dimensional array with 1 row.\n",
    "Here are two ways to construct a matrix"
   ]
  },
  {
   "cell_type": "code",
   "execution_count": 59,
   "metadata": {},
   "outputs": [
    {
     "data": {
      "text/plain": [
       "3×3 Array{Int64,2}:\n",
       " 1  2   3\n",
       " 4  5   6\n",
       " 7  8  10"
      ]
     },
     "execution_count": 59,
     "metadata": {},
     "output_type": "execute_result"
    }
   ],
   "source": [
    "A = [1 2 3; 4 5 6; 7 8 9]\n",
    "A = [1 2 3\n",
    "4 5 6\n",
    "7 8 10]"
   ]
  },
  {
   "cell_type": "markdown",
   "metadata": {},
   "source": [
    "We can also construct arrays using functions. For example, to create a length 5 vector of zeros."
   ]
  },
  {
   "cell_type": "code",
   "execution_count": 60,
   "metadata": {},
   "outputs": [
    {
     "data": {
      "text/plain": [
       "5-element Array{Float64,1}:\n",
       " 0.0\n",
       " 0.0\n",
       " 0.0\n",
       " 0.0\n",
       " 0.0"
      ]
     },
     "execution_count": 60,
     "metadata": {},
     "output_type": "execute_result"
    }
   ],
   "source": [
    "z = zeros(5)"
   ]
  },
  {
   "cell_type": "markdown",
   "metadata": {},
   "source": [
    "Note that in Matlab the zeros(5) command gives you a 5x5 matrix. Matlab has no concept of 1 dimensional arrays."
   ]
  },
  {
   "cell_type": "markdown",
   "metadata": {},
   "source": [
    "To perform operations on matrices, we want to use dot notation described below. This is a unique and very powerful feature of Julia. In Julia, functions are generally written exclusively for scalar arguments unless there is a well defined matrix version. For example, element-wise multiplication and matrix multiplication are not the same thing, nor is element-wise exponential and matrix exponential.\n",
    "\n",
    "The following is an error for arrays. (there is no base 10 matrix logorithim)"
   ]
  },
  {
   "cell_type": "code",
   "execution_count": 61,
   "metadata": {},
   "outputs": [
    {
     "name": "stdout",
     "output_type": "stream",
     "text": [
      "log10(2.0) = 0.3010299956639812\n"
     ]
    },
    {
     "ename": "LoadError",
     "evalue": "MethodError: no method matching log10(::Array{Int64,2})\nClosest candidates are:\n  log10(!Matched::BigFloat) at mpfr.jl:611\n  log10(!Matched::Missing) at math.jl:1056\n  log10(!Matched::Complex{Float16}) at math.jl:1005\n  ...",
     "output_type": "error",
     "traceback": [
      "MethodError: no method matching log10(::Array{Int64,2})\nClosest candidates are:\n  log10(!Matched::BigFloat) at mpfr.jl:611\n  log10(!Matched::Missing) at math.jl:1056\n  log10(!Matched::Complex{Float16}) at math.jl:1005\n  ...",
      "",
      "Stacktrace:",
      " [1] top-level scope at show.jl:556"
     ]
    }
   ],
   "source": [
    "@show log10(2.)\n",
    "@show log10(A)"
   ]
  },
  {
   "cell_type": "markdown",
   "metadata": {},
   "source": [
    "To apply this element-wise, use a dot"
   ]
  },
  {
   "cell_type": "code",
   "execution_count": 62,
   "metadata": {},
   "outputs": [
    {
     "data": {
      "text/plain": [
       "3×3 Array{Float64,2}:\n",
       " 0.0       0.30103  0.477121\n",
       " 0.60206   0.69897  0.778151\n",
       " 0.845098  0.90309  1.0     "
      ]
     },
     "execution_count": 62,
     "metadata": {},
     "output_type": "execute_result"
    }
   ],
   "source": [
    "log10.(A)"
   ]
  },
  {
   "cell_type": "markdown",
   "metadata": {},
   "source": [
    "This dot notation automatically converts the above into a loop which calls the function on scalars."
   ]
  },
  {
   "cell_type": "code",
   "execution_count": 63,
   "metadata": {},
   "outputs": [
    {
     "data": {
      "text/plain": [
       "3×3 Array{Float64,2}:\n",
       " 0.0       0.30103  0.477121\n",
       " 0.60206   0.69897  0.778151\n",
       " 0.845098  0.90309  1.0     "
      ]
     },
     "execution_count": 63,
     "metadata": {},
     "output_type": "execute_result"
    }
   ],
   "source": [
    "out = zeros(size(A))\n",
    "for i in eachindex(A)\n",
    "    out[i] = log10(A[i])\n",
    "end\n",
    "out"
   ]
  },
  {
   "cell_type": "markdown",
   "metadata": {},
   "source": [
    "This notation generalizes to a whole line of computations. This is called fusing."
   ]
  },
  {
   "cell_type": "code",
   "execution_count": 64,
   "metadata": {},
   "outputs": [
    {
     "name": "stdout",
     "output_type": "stream",
     "text": [
      "exp.(A) .+ sin.(A) .^ A = [3.55975 8.21588 20.0883; 54.9262 147.602 403.429; 1096.69 2981.88 22026.5]\n",
      "out = [3.55975 8.21588 20.0883; 54.9262 147.602 403.429; 1096.69 2981.88 22026.5]\n"
     ]
    }
   ],
   "source": [
    "@show exp.(A) .+ sin.(A) .^ A\n",
    "## Equivalent to \n",
    "out = zeros(size(A))\n",
    "for i in eachindex(A)\n",
    "    a = A[i]\n",
    "    out[i] = exp(a) + sin(a)^a\n",
    "end\n",
    "@show out;"
   ]
  },
  {
   "cell_type": "markdown",
   "metadata": {},
   "source": [
    "Usual matrix operations work mostly as in Matlab"
   ]
  },
  {
   "cell_type": "code",
   "execution_count": 65,
   "metadata": {},
   "outputs": [
    {
     "name": "stdout",
     "output_type": "stream",
     "text": [
      "A' = [1 4 7; 2 5 8; 3 6 10]\n",
      "A * A = [30 36 45; 66 81 102; 109 134 169]\n",
      "A * inv(A) = [1.0 0.0 0.0; -8.88178e-16 1.0 -8.88178e-16; 0.0 0.0 1.0]\n"
     ]
    }
   ],
   "source": [
    "@show A'\n",
    "@show A*A \n",
    "@show A * inv(A);"
   ]
  },
  {
   "cell_type": "markdown",
   "metadata": {},
   "source": [
    "However, the comma means something different here. To join two arrays horizontally, only the space is acceptable. A comma will give you an array of arrays."
   ]
  },
  {
   "cell_type": "code",
   "execution_count": 66,
   "metadata": {},
   "outputs": [
    {
     "data": {
      "text/plain": [
       "3×6 Array{Int64,2}:\n",
       " 1  2   3  1  2   3\n",
       " 4  5   6  4  5   6\n",
       " 7  8  10  7  8  10"
      ]
     },
     "execution_count": 66,
     "metadata": {},
     "output_type": "execute_result"
    }
   ],
   "source": [
    "[A A]"
   ]
  },
  {
   "cell_type": "code",
   "execution_count": 67,
   "metadata": {},
   "outputs": [
    {
     "data": {
      "text/plain": [
       "2-element Array{Array{Int64,2},1}:\n",
       " [1 2 3; 4 5 6; 7 8 10]\n",
       " [1 2 3; 4 5 6; 7 8 10]"
      ]
     },
     "execution_count": 67,
     "metadata": {},
     "output_type": "execute_result"
    }
   ],
   "source": [
    "[A, A]"
   ]
  },
  {
   "cell_type": "code",
   "execution_count": 68,
   "metadata": {},
   "outputs": [
    {
     "data": {
      "text/plain": [
       "6×3 Array{Int64,2}:\n",
       " 1  2   3\n",
       " 4  5   6\n",
       " 7  8  10\n",
       " 1  2   3\n",
       " 4  5   6\n",
       " 7  8  10"
      ]
     },
     "execution_count": 68,
     "metadata": {},
     "output_type": "execute_result"
    }
   ],
   "source": [
    "[A;A]"
   ]
  }
 ],
 "metadata": {
  "kernelspec": {
   "display_name": "Julia 1.1.1",
   "language": "julia",
   "name": "julia-1.1"
  },
  "language_info": {
   "file_extension": ".jl",
   "mimetype": "application/julia",
   "name": "julia",
   "version": "1.1.1"
  }
 },
 "nbformat": 4,
 "nbformat_minor": 2
}
