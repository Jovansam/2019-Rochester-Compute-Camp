{
 "cells": [
  {
   "cell_type": "markdown",
   "metadata": {},
   "source": [
    "Julia is much faster than languages such as R, Python, and Matlab. Internally it is actually similar to compilied languages like C and Fortran. The way this works is that instead of interpreting your functions line by line like typical dynamic languages, Julia will check the types of the function arguments and compile it to machine code (as with C).\n",
    "\n",
    "Internally, Julia transforms your Julia code into LLVM code. LLVM is an intermediate language. Then, the LLVM compiler transforms the LLVM code into machine code.\n",
    "\n",
    "For reference, you can do the same thing with C. The Clang C compiler transforms C code into LLVM code, and then LLVM transforms that into machine code. Clang has similar performance to other C compilers. Given this, it is less surprising that Julia code is fast.\n",
    "\n",
    "We can look at how this happens along the transformation pipeline."
   ]
  },
  {
   "cell_type": "code",
   "execution_count": 17,
   "metadata": {},
   "outputs": [
    {
     "data": {
      "text/plain": [
       "7.0"
      ]
     },
     "execution_count": 17,
     "metadata": {},
     "output_type": "execute_result"
    }
   ],
   "source": [
    "function f(x)\n",
    "    a = x*2 + 3\n",
    "end\n",
    "f(2.)"
   ]
  },
  {
   "cell_type": "markdown",
   "metadata": {},
   "source": [
    "First, we check what methods Julia is going to call once the input type (Float64) is checked and multiple dispatch is performed."
   ]
  },
  {
   "cell_type": "code",
   "execution_count": 18,
   "metadata": {},
   "outputs": [
    {
     "data": {
      "text/plain": [
       "CodeInfo(\n",
       "\u001b[90m\u001b[72G│╻╷ *\u001b[1G\u001b[39m\u001b[90m2 \u001b[39m1 ─ %1 = (Base.mul_float)(x, 2.0)\u001b[36m::Float64\u001b[39m\n",
       "\u001b[90m\u001b[72G││╻  +\u001b[1G\u001b[39m\u001b[90m  \u001b[39m│   %2 = (Base.add_float)(%1, 3.0)\u001b[36m::Float64\u001b[39m\n",
       "\u001b[90m\u001b[72G│  \u001b[1G\u001b[39m\u001b[90m  \u001b[39m└──      return %2\n",
       ") => Float64"
      ]
     },
     "execution_count": 18,
     "metadata": {},
     "output_type": "execute_result"
    }
   ],
   "source": [
    "@code_typed f(2.)"
   ]
  },
  {
   "cell_type": "markdown",
   "metadata": {},
   "source": [
    "Next, we can see the LLVM code"
   ]
  },
  {
   "cell_type": "code",
   "execution_count": 19,
   "metadata": {},
   "outputs": [
    {
     "name": "stdout",
     "output_type": "stream",
     "text": [
      "\n",
      "; Function f\n",
      "; Location: In[17]:2\n",
      "define double @julia_f_37235(double) {\n",
      "top:\n",
      "; Function *; {\n",
      "; Location: promotion.jl:314\n",
      "; Function *; {\n",
      "; Location: float.jl:399\n",
      "  %1 = fmul double %0, 2.000000e+00\n",
      ";}}\n",
      "; Function +; {\n",
      "; Location: promotion.jl:313\n",
      "; Function +; {\n",
      "; Location: float.jl:395\n",
      "  %2 = fadd double %1, 3.000000e+00\n",
      ";}}\n",
      "  ret double %2\n",
      "}\n"
     ]
    }
   ],
   "source": [
    "@code_llvm f(2.)"
   ]
  },
  {
   "cell_type": "markdown",
   "metadata": {},
   "source": [
    "Finally, we can look at the machine code (assembly language), which is mostly unreadable by humans."
   ]
  },
  {
   "cell_type": "code",
   "execution_count": 20,
   "metadata": {},
   "outputs": [
    {
     "name": "stdout",
     "output_type": "stream",
     "text": [
      "\t.text\n",
      "; Function f {\n",
      "; Location: In[17]:2\n",
      "; Function *; {\n",
      "; Location: promotion.jl:314\n",
      "; Function *; {\n",
      "; Location: In[17]:2\n",
      "\tvaddsd\t%xmm0, %xmm0, %xmm0\n",
      "\tmovabsq\t$140233780372328, %rax  # imm = 0x7F8AB8AA2368\n",
      ";}}\n",
      "; Function +; {\n",
      "; Location: promotion.jl:313\n",
      "; Function +; {\n",
      "; Location: float.jl:395\n",
      "\tvaddsd\t(%rax), %xmm0, %xmm0\n",
      ";}}\n",
      "\tretq\n",
      "\tnopw\t%cs:(%rax,%rax)\n",
      ";}\n"
     ]
    }
   ],
   "source": [
    "@code_native f(2.)"
   ]
  }
 ],
 "metadata": {
  "kernelspec": {
   "display_name": "Julia 1.1.1",
   "language": "julia",
   "name": "julia-1.1"
  },
  "language_info": {
   "file_extension": ".jl",
   "mimetype": "application/julia",
   "name": "julia",
   "version": "1.1.1"
  }
 },
 "nbformat": 4,
 "nbformat_minor": 2
}
