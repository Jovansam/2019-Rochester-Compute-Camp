{
 "cells": [
  {
   "cell_type": "markdown",
   "metadata": {},
   "source": [
    "# Question 1\n",
    "Consider the tax functions we saw in class as an example of multiple dispatch. "
   ]
  },
  {
   "cell_type": "code",
   "execution_count": 8,
   "metadata": {},
   "outputs": [],
   "source": [
    "struct SimpleTax\n",
    "end \n",
    "\n",
    "struct ComplexTax \n",
    "α::Float64\n",
    "end"
   ]
  },
  {
   "cell_type": "code",
   "execution_count": 9,
   "metadata": {},
   "outputs": [
    {
     "data": {
      "text/plain": [
       "consumption (generic function with 1 method)"
      ]
     },
     "execution_count": 9,
     "metadata": {},
     "output_type": "execute_result"
    }
   ],
   "source": [
    "t1 = SimpleTax() \n",
    "t2 = ComplexTax(0.3)\n",
    "tax(y, t::SimpleTax) = 0.5*y\n",
    "tax(y, t::ComplexTax) = y^t.α\n",
    "consumption(y, t) = y - tax(y, t)"
   ]
  },
  {
   "cell_type": "code",
   "execution_count": 10,
   "metadata": {},
   "outputs": [
    {
     "data": {
      "text/plain": [
       "-0.3122523963562356"
      ]
     },
     "execution_count": 10,
     "metadata": {},
     "output_type": "execute_result"
    }
   ],
   "source": [
    "consumption(0.5, t2)"
   ]
  },
  {
   "cell_type": "markdown",
   "metadata": {},
   "source": [
    "Define a new tax structure with 3 parameters and associated tax function. Call this struct ProgTax. You should implement the tax function of Gouveia and Strauss (1994), which is \n",
    "\n",
    "$$\\alpha_0 [y - (y^{-\\alpha_1} + \\alpha_2)^{-1/\\alpha_1}] $$\n",
    "\n",
    "Construct an instance of ProgTax with parameters $\\alpha_0, \\alpha_1, \\alpha_2$ equal to $0.2, 0.7$, and $0.5$ respectively. Evaluate the consumption function at 0.5 with these taxes.\n",
    "\n",
    "Plot this tax function on the range `0:0.1:2` . What is its shape?"
   ]
  },
  {
   "cell_type": "code",
   "execution_count": 11,
   "metadata": {},
   "outputs": [],
   "source": [
    "## Do work here"
   ]
  },
  {
   "cell_type": "markdown",
   "metadata": {},
   "source": [
    "# Question 2\n",
    "\n",
    "Consider the econometrics simulation from before. We are going to check the performance under different assumptions. I repeat the code below."
   ]
  },
  {
   "cell_type": "code",
   "execution_count": 12,
   "metadata": {},
   "outputs": [
    {
     "data": {
      "text/plain": [
       "3-element Array{Int64,1}:\n",
       " 5\n",
       " 2\n",
       " 3"
      ]
     },
     "execution_count": 12,
     "metadata": {},
     "output_type": "execute_result"
    }
   ],
   "source": [
    "using Distributions\n",
    "using Statistics # the var function is in the Statistics package\n",
    "N = 100\n",
    "X = rand(100, 2)\n",
    "X = [ones(100, 1) X]\n",
    "beta = [5\n",
    "2\n",
    "3]"
   ]
  },
  {
   "cell_type": "code",
   "execution_count": 13,
   "metadata": {},
   "outputs": [
    {
     "data": {
      "text/plain": [
       "(β_2_lower = 1.847761210907517, β_2_upper = 3.302067237404706)"
      ]
     },
     "execution_count": 13,
     "metadata": {},
     "output_type": "execute_result"
    }
   ],
   "source": [
    "dist = Normal()\n",
    "u = rand(dist, 100)\n",
    "Y = X*beta + u\n",
    "betahat = (X' * X)\\(X' * Y)\n",
    "eps = Y - X*betahat\n",
    "sigma_eps = 1 # Why not var(eps)\n",
    "betahat_var = (X' * X)^-1 * sigma_eps\n",
    "CI = (β_2_lower = betahat[2] - 1.96*sqrt(betahat_var[2, 2]), \n",
    "    β_2_upper = betahat[2] + 1.96*sqrt(betahat_var[2, 2]))"
   ]
  },
  {
   "cell_type": "markdown",
   "metadata": {},
   "source": [
    "This was a confidence interval according to the OLS formula, which is valid under certain assumptions. Let's create the exact interval by simulation (Monte Carlo)."
   ]
  },
  {
   "cell_type": "code",
   "execution_count": 14,
   "metadata": {},
   "outputs": [
    {
     "data": {
      "text/plain": [
       "simulate_CI (generic function with 1 method)"
      ]
     },
     "execution_count": 14,
     "metadata": {},
     "output_type": "execute_result"
    }
   ],
   "source": [
    "function simulate_beta(X, dist, N)\n",
    "beta = [5\n",
    "2\n",
    "3]\n",
    "u = rand(dist, N)\n",
    "Y = X*beta + u\n",
    "betahat = (X' * X)\\(X' * Y)\n",
    "end\n",
    "function simulate_CI(X, dist, N, N_sim)\n",
    "    betas = [simulate_beta(X, dist, N)[2] for i in 1:N_sim]\n",
    "    (β_2_lower = quantile(betas, 0.025), β_2_upper = quantile(betas, 0.975))\n",
    "end"
   ]
  },
  {
   "cell_type": "code",
   "execution_count": 15,
   "metadata": {},
   "outputs": [
    {
     "data": {
      "text/plain": [
       "(β_2_lower = 1.2592813909886305, β_2_upper = 2.717373684194716)"
      ]
     },
     "execution_count": 15,
     "metadata": {},
     "output_type": "execute_result"
    }
   ],
   "source": [
    "CI2 = simulate_CI(X, dist, 100, 10000)"
   ]
  },
  {
   "cell_type": "code",
   "execution_count": 16,
   "metadata": {},
   "outputs": [],
   "source": [
    "## Do work here"
   ]
  },
  {
   "cell_type": "markdown",
   "metadata": {},
   "source": [
    "Compute the width (upper minus lower) of each CI. Are they similar?\n",
    "\n",
    "Pick a distribution other than Normal, but make sure it still has mean 0 and variance 1. Verify this with the Distributions package.\n",
    "\n",
    "Repeat the exercise. Are the widths similar?"
   ]
  }
 ],
 "metadata": {
  "@webio": {
   "lastCommId": null,
   "lastKernelId": null
  },
  "kernelspec": {
   "display_name": "Julia 1.1.1",
   "language": "julia",
   "name": "julia-1.1"
  },
  "language_info": {
   "file_extension": ".jl",
   "mimetype": "application/julia",
   "name": "julia",
   "version": "1.1.1"
  }
 },
 "nbformat": 4,
 "nbformat_minor": 2
}
