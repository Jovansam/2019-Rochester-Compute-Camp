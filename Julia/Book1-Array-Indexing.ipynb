{
 "cells": [
  {
   "cell_type": "markdown",
   "metadata": {},
   "source": [
    "Variables in Julia can be of any type. There is no special place granted to arrays. Unlike Matlab, variables are not arrays by default and attempts to treat them like they are will sometimes result in an error. \n",
    "\n",
    "Consider the number 2.5 and a 1 dimensional array containing 2.5. They have completely different types. "
   ]
  },
  {
   "cell_type": "code",
   "execution_count": 1,
   "metadata": {},
   "outputs": [
    {
     "name": "stdout",
     "output_type": "stream",
     "text": [
      "typeof(a) = Float64\n",
      "typeof(A) = Array{Float64,1}\n",
      "typeof(A[1]) = Float64\n"
     ]
    }
   ],
   "source": [
    "a = 2.5\n",
    "@show typeof(a)\n",
    "A = [2.5]\n",
    "@show typeof(A)\n",
    "@show typeof(A[1]);"
   ]
  },
  {
   "cell_type": "markdown",
   "metadata": {},
   "source": [
    "We can construct a random array and index it. In Julia array indexing is done with [], unlike Matlab which is ()."
   ]
  },
  {
   "cell_type": "code",
   "execution_count": 2,
   "metadata": {},
   "outputs": [
    {
     "name": "stdout",
     "output_type": "stream",
     "text": [
      "typeof(A) = Array{Float64,2}\n",
      "A[4, 2] = 0.608304703972961\n"
     ]
    }
   ],
   "source": [
    "A = rand(4, 4)\n",
    "@show typeof(A)\n",
    "@show A[4, 2];"
   ]
  },
  {
   "cell_type": "markdown",
   "metadata": {},
   "source": [
    "Note that this is a two dimensional array. Above we had a 1 dimensional array. They have different behavior.\n",
    "\n",
    "If we refer to elements outside the array, Julia throws an error. "
   ]
  },
  {
   "cell_type": "code",
   "execution_count": 3,
   "metadata": {},
   "outputs": [
    {
     "ename": "BoundsError",
     "evalue": "BoundsError: attempt to access 4×4 Array{Float64,2} at index [5, 4]",
     "output_type": "error",
     "traceback": [
      "BoundsError: attempt to access 4×4 Array{Float64,2} at index [5, 4]",
      "",
      "Stacktrace:",
      " [1] getindex(::Array{Float64,2}, ::Int64, ::Int64) at ./array.jl:730",
      " [2] top-level scope at In[3]:1"
     ]
    }
   ],
   "source": [
    "A[5, 4]"
   ]
  },
  {
   "cell_type": "markdown",
   "metadata": {},
   "source": [
    "Attempts to assign to elements outside the array will throw an error. You should construct a new array if you want this for a matrix. However, if you need to dynamically insert something into a 1 dimensional array, use push!"
   ]
  },
  {
   "cell_type": "code",
   "execution_count": 4,
   "metadata": {},
   "outputs": [
    {
     "name": "stdout",
     "output_type": "stream",
     "text": [
      "B = [0.642512, 0.91655, 0.449064, 0.658499, 0.731548]\n",
      "B = [0.642512, 0.91655, 0.449064, 0.658499, 0.731548, 5.0]\n"
     ]
    }
   ],
   "source": [
    "B = rand(5)\n",
    "@show B\n",
    "push!(B, 5)\n",
    "@show B;"
   ]
  },
  {
   "cell_type": "markdown",
   "metadata": {},
   "source": [
    "As in Matlab, you can use the colon to access many elements."
   ]
  },
  {
   "cell_type": "code",
   "execution_count": 5,
   "metadata": {},
   "outputs": [
    {
     "name": "stdout",
     "output_type": "stream",
     "text": [
      "A[1:3, 2] = [0.723071, 0.488463, 0.197691]\n",
      "A[3, :] = [0.473236, 0.197691, 0.532781, 0.363123]\n"
     ]
    }
   ],
   "source": [
    "@show A[1:3, 2]\n",
    "@show A[3, :];"
   ]
  },
  {
   "cell_type": "markdown",
   "metadata": {},
   "source": [
    "The colon operator allows us to create an equally spaced vector of values like so"
   ]
  },
  {
   "cell_type": "code",
   "execution_count": 6,
   "metadata": {},
   "outputs": [
    {
     "name": "stdout",
     "output_type": "stream",
     "text": [
      "C[3] = 20\n"
     ]
    }
   ],
   "source": [
    "C = 0:10:100\n",
    "@show C[3];"
   ]
  },
  {
   "cell_type": "markdown",
   "metadata": {},
   "source": [
    "However, do note that the 0:10:100 has a very different internal representation here than in Matlab. In Matlab this constructs an array. However, in Julia, we have"
   ]
  },
  {
   "cell_type": "code",
   "execution_count": 7,
   "metadata": {},
   "outputs": [
    {
     "data": {
      "text/plain": [
       "StepRange{Int64,Int64}"
      ]
     },
     "execution_count": 7,
     "metadata": {},
     "output_type": "execute_result"
    }
   ],
   "source": [
    "typeof(C)"
   ]
  },
  {
   "cell_type": "markdown",
   "metadata": {},
   "source": [
    "This is a type of AbstractArray which acts as if it were an Array, but does not actually allocate any memory. You should be able to use the range as if it were the equivalent array. To construct this explicitly (and waste memory), use collect. These sorts of abstractions are very common in Julia."
   ]
  },
  {
   "cell_type": "code",
   "execution_count": 8,
   "metadata": {},
   "outputs": [
    {
     "data": {
      "text/plain": [
       "11-element Array{Int64,1}:\n",
       "   0\n",
       "  10\n",
       "  20\n",
       "  30\n",
       "  40\n",
       "  50\n",
       "  60\n",
       "  70\n",
       "  80\n",
       "  90\n",
       " 100"
      ]
     },
     "execution_count": 8,
     "metadata": {},
     "output_type": "execute_result"
    }
   ],
   "source": [
    "collect(C)"
   ]
  },
  {
   "cell_type": "markdown",
   "metadata": {},
   "source": []
  }
 ],
 "metadata": {
  "@webio": {
   "lastCommId": null,
   "lastKernelId": null
  },
  "kernelspec": {
   "display_name": "Julia 1.1.1",
   "language": "julia",
   "name": "julia-1.1"
  },
  "language_info": {
   "file_extension": ".jl",
   "mimetype": "application/julia",
   "name": "julia",
   "version": "1.1.1"
  }
 },
 "nbformat": 4,
 "nbformat_minor": 2
}
