{
 "cells": [
  {
   "cell_type": "markdown",
   "metadata": {},
   "source": [
    "Here we will go on a brief tour of the Julia ecosystem.\n",
    "\n",
    "# Data analysis\n",
    "\n",
    "For most data work you want the DataFrames package."
   ]
  },
  {
   "cell_type": "code",
   "execution_count": 40,
   "metadata": {},
   "outputs": [
    {
     "data": {
      "text/html": [
       "<table class=\"data-frame\"><thead><tr><th></th><th>myvar</th><th>myvar2</th></tr></thead><tbody><tr><th>1</th><td>0.934882</td><td>0.673199</td></tr><tr><th>2</th><td>0.428885</td><td>0.137181</td></tr><tr><th>3</th><td>0.366078</td><td>0.584853</td></tr><tr><th>4</th><td>0.211659</td><td>0.247577</td></tr><tr><th>5</th><td>0.379631</td><td>0.812897</td></tr><tr><th>6</th><td>0.614049</td><td>0.105487</td></tr><tr><th>7</th><td>0.950274</td><td>0.870842</td></tr><tr><th>8</th><td>0.593408</td><td>0.2467</td></tr><tr><th>9</th><td>0.404532</td><td>0.0632573</td></tr><tr><th>10</th><td>0.11829</td><td>0.572942</td></tr></tbody></table>"
      ],
      "text/plain": [
       "10×2 DataFrame\n",
       "│ Row │ myvar    │ myvar2    │\n",
       "├─────┼──────────┼───────────┤\n",
       "│ 1   │ 0.934882 │ 0.673199  │\n",
       "│ 2   │ 0.428885 │ 0.137181  │\n",
       "│ 3   │ 0.366078 │ 0.584853  │\n",
       "│ 4   │ 0.211659 │ 0.247577  │\n",
       "│ 5   │ 0.379631 │ 0.812897  │\n",
       "│ 6   │ 0.614049 │ 0.105487  │\n",
       "│ 7   │ 0.950274 │ 0.870842  │\n",
       "│ 8   │ 0.593408 │ 0.2467    │\n",
       "│ 9   │ 0.404532 │ 0.0632573 │\n",
       "│ 10  │ 0.11829  │ 0.572942  │"
      ]
     },
     "execution_count": 40,
     "metadata": {},
     "output_type": "execute_result"
    }
   ],
   "source": [
    "using DataFrames\n",
    "df = DataFrame(myvar = rand(10), myvar2 = rand(10))"
   ]
  },
  {
   "cell_type": "markdown",
   "metadata": {},
   "source": [
    "DataFrames supports missing values and columns of arbitrary type."
   ]
  },
  {
   "cell_type": "code",
   "execution_count": 41,
   "metadata": {},
   "outputs": [
    {
     "data": {
      "text/plain": [
       "36-element Array{Union{Missing, Float64},1}:\n",
       " 0.6872360011934879 \n",
       " 0.9363234991701161 \n",
       " 0.8936334777890156 \n",
       " 0.11688137795518783\n",
       " 0.7890561211535867 \n",
       " 0.6113029491120121 \n",
       " 0.523008594155334  \n",
       " 0.1689591114307316 \n",
       " 0.3672753431095943 \n",
       " 0.06656447076896543\n",
       " 0.24476702480212187\n",
       " 0.07016335026978626\n",
       " 0.40070776201727987\n",
       " ⋮                  \n",
       " 0.2514606026974069 \n",
       " 0.917588253383169  \n",
       " 0.6251508223848845 \n",
       " 0.27967913127926436\n",
       " 0.6558167890079414 \n",
       " 0.9990055689663853 \n",
       " 0.5981595478040742 \n",
       " 0.24861496129146632\n",
       " 0.5504765947197567 \n",
       " 0.6073100312122581 \n",
       " 0.7999193377468787 \n",
       "  missing           "
      ]
     },
     "execution_count": 41,
     "metadata": {},
     "output_type": "execute_result"
    }
   ],
   "source": [
    "A = [rand(35); missing]"
   ]
  },
  {
   "cell_type": "code",
   "execution_count": 42,
   "metadata": {},
   "outputs": [
    {
     "data": {
      "text/plain": [
       "12×3 Array{Date,2}:\n",
       " 2000-01-01  2001-01-01  2002-01-01\n",
       " 2000-02-01  2001-02-01  2002-02-01\n",
       " 2000-03-01  2001-03-01  2002-03-01\n",
       " 2000-04-01  2001-04-01  2002-04-01\n",
       " 2000-05-01  2001-05-01  2002-05-01\n",
       " 2000-06-01  2001-06-01  2002-06-01\n",
       " 2000-07-01  2001-07-01  2002-07-01\n",
       " 2000-08-01  2001-08-01  2002-08-01\n",
       " 2000-09-01  2001-09-01  2002-09-01\n",
       " 2000-10-01  2001-10-01  2002-10-01\n",
       " 2000-11-01  2001-11-01  2002-11-01\n",
       " 2000-12-01  2001-12-01  2002-12-01"
      ]
     },
     "execution_count": 42,
     "metadata": {},
     "output_type": "execute_result"
    }
   ],
   "source": [
    "using Dates\n",
    "B = [Date(Month(m), Year(y) ) for m in 1:12, y in 2000:2002]"
   ]
  },
  {
   "cell_type": "markdown",
   "metadata": {},
   "source": [
    "The syntax above is called a comprehension. It is a highly useful construct, similar to set notation in math. Here we construct all dates with months from 1 to 12 and years from 2000 to 2002. To get this as a vector, use B[:]"
   ]
  },
  {
   "cell_type": "code",
   "execution_count": 43,
   "metadata": {},
   "outputs": [
    {
     "data": {
      "text/plain": [
       "36-element Array{Date,1}:\n",
       " 2000-01-01\n",
       " 2000-02-01\n",
       " 2000-03-01\n",
       " 2000-04-01\n",
       " 2000-05-01\n",
       " 2000-06-01\n",
       " 2000-07-01\n",
       " 2000-08-01\n",
       " 2000-09-01\n",
       " 2000-10-01\n",
       " 2000-11-01\n",
       " 2000-12-01\n",
       " 2001-01-01\n",
       " ⋮         \n",
       " 2002-01-01\n",
       " 2002-02-01\n",
       " 2002-03-01\n",
       " 2002-04-01\n",
       " 2002-05-01\n",
       " 2002-06-01\n",
       " 2002-07-01\n",
       " 2002-08-01\n",
       " 2002-09-01\n",
       " 2002-10-01\n",
       " 2002-11-01\n",
       " 2002-12-01"
      ]
     },
     "execution_count": 43,
     "metadata": {},
     "output_type": "execute_result"
    }
   ],
   "source": [
    "B = B[:]"
   ]
  },
  {
   "cell_type": "code",
   "execution_count": 44,
   "metadata": {},
   "outputs": [
    {
     "data": {
      "text/html": [
       "<table class=\"data-frame\"><thead><tr><th></th><th>time</th><th>value</th></tr></thead><tbody><tr><th>1</th><td>2002-07-01</td><td>0.59816</td></tr><tr><th>2</th><td>2002-08-01</td><td>0.248615</td></tr><tr><th>3</th><td>2002-09-01</td><td>0.550477</td></tr><tr><th>4</th><td>2002-10-01</td><td>0.60731</td></tr><tr><th>5</th><td>2002-11-01</td><td>0.799919</td></tr><tr><th>6</th><td>2002-12-01</td><td>missing</td></tr></tbody></table>"
      ],
      "text/plain": [
       "6×2 DataFrame\n",
       "│ Row │ time       │ value    │\n",
       "├─────┼────────────┼──────────┤\n",
       "│ 1   │ 2002-07-01 │ 0.59816  │\n",
       "│ 2   │ 2002-08-01 │ 0.248615 │\n",
       "│ 3   │ 2002-09-01 │ 0.550477 │\n",
       "│ 4   │ 2002-10-01 │ 0.60731  │\n",
       "│ 5   │ 2002-11-01 │ 0.799919 │\n",
       "│ 6   │ 2002-12-01 │ \u001b[90mmissing\u001b[39m  │"
      ]
     },
     "execution_count": 44,
     "metadata": {},
     "output_type": "execute_result"
    }
   ],
   "source": [
    "df = DataFrame(time = B, value = A)\n",
    "tail(df) # look at the last 6 rows"
   ]
  },
  {
   "cell_type": "markdown",
   "metadata": {},
   "source": [
    "The Date type is another useful application of multiple dispatch. Operations on Dates work as expected. How many days seperate our dates?"
   ]
  },
  {
   "cell_type": "code",
   "execution_count": 45,
   "metadata": {},
   "outputs": [
    {
     "name": "stdout",
     "output_type": "stream",
     "text": [
      "B[2] - B[1] = 31 days\n",
      "B[3] - B[1] = 60 days\n"
     ]
    }
   ],
   "source": [
    "@show B[2] - B[1]\n",
    "@show B[3] - B[1];"
   ]
  },
  {
   "cell_type": "markdown",
   "metadata": {},
   "source": [
    "Above we saw the missing value, which gave us an array of type Array{Union{Missing, Float64}, 1}. Operations on missing values obey 3 valued logic. Missing values propogate through standard functions, for example:"
   ]
  },
  {
   "cell_type": "code",
   "execution_count": 46,
   "metadata": {},
   "outputs": [
    {
     "name": "stdout",
     "output_type": "stream",
     "text": [
      "2 + missing = missing\n"
     ]
    }
   ],
   "source": [
    "@show 2 + missing;"
   ]
  },
  {
   "cell_type": "markdown",
   "metadata": {},
   "source": [
    "Somewhat surprisingly if you understand how Julia works internally, this Array of a Union type will actually work efficiently in your code, meaning functions that make use of them remain fast despite the uncertainty about what type you are actually going to get out of the array. An enourmous amount of work occured over the past year to make this happen, if you are interested in a somewhat technical overview, see: https://julialang.org/blog/2018/08/union-splitting and https://julialang.org/blog/2018/06/missing .\n",
    "\n",
    "You can look at the DataFrames documentation for how to manipulate tables, join datasets together, perform group operations, etc."
   ]
  },
  {
   "cell_type": "markdown",
   "metadata": {},
   "source": [
    "## JuliaDB\n",
    "\n",
    "I won't talk about JuliaDB, but it is very cool. It is a distributed (across CPUs) table designed for very large(tens or hundreds of GBs) datasets, though it works fine with any data."
   ]
  },
  {
   "cell_type": "markdown",
   "metadata": {},
   "source": [
    "## Flux\n",
    "If you for some reason need deep learning (neural networks), the Flux package is very easy to use."
   ]
  },
  {
   "cell_type": "markdown",
   "metadata": {},
   "source": [
    "# QuantEcon\n",
    "QuantEcon will teach you many models from 1st and 2nd year macroeconomics in their lectures, which incorporate both instruction and Julia code. For example, here is the lecture on on the job search. https://lectures.quantecon.org/jl/jv.html .\n",
    "\n",
    "It is a fairly remarkable project. Tom Sargent and John Stachurski employ a bunch of people to work on it. It maps fairly well into his book too.\n",
    "\n",
    "QuantEcon is currently transitioning to Julia 1.0.\n",
    "\n",
    "## JuMP\n",
    "\n",
    "JuMP is a package for mathematical programming. It supports all sorts of constrained optimization problems and is easy to use. However, it doesn't work on 1.0 yet so I won't show it to you. Code looks something like this\n"
   ]
  },
  {
   "cell_type": "code",
   "execution_count": 47,
   "metadata": {},
   "outputs": [
    {
     "ename": "LoadError",
     "evalue": "UndefVarError: Model not defined",
     "output_type": "error",
     "traceback": [
      "UndefVarError: Model not defined",
      "",
      "Stacktrace:",
      " [1] top-level scope at none:0"
     ]
    }
   ],
   "source": [
    "# do not run. will not work\n",
    "\n",
    "model = Model()\n",
    "@variable(model, x)\n",
    "@variable(model, y)\n",
    "\n",
    "@NLobjective(model, Min, (1-x)^2 + 100(y-x^2)^2)\n",
    "@NLconstraint(model, exp(x)+sin(x) <=0);\n",
    "solve(model)"
   ]
  },
  {
   "cell_type": "markdown",
   "metadata": {},
   "source": [
    "## DifferentialEquations\n",
    "\n",
    "I have not needed to solve any differential equations in economics, but I've heard that the DifferentialEquations.jl package is extremely good, in that it exceeds Matlab (and potentially anything else) in speed, comprehensiveness, and ease of use. See https://github.com/JuliaDiffEq/DifferentialEquations.jl"
   ]
  },
  {
   "cell_type": "markdown",
   "metadata": {},
   "source": [
    "# Inter-operation with other languages\n",
    "\n",
    "You can use other languages from Julia. You can call C and Fortran functions natively if they are compiled. For example, I found some pretty complicated C code to discretize VARs on the internet and was able to use it in Julia.\n",
    "\n",
    "You can also access programs like R, Python, and Matlab using packages like RCall. \n",
    "\n",
    "For example, using the RCall package, I was able to use R's good data importing functions to read data from disk, and then convert it into a Julia DataFrame. This is very useful because there is a lot of useful stuff in R, and we can use it from Julia without needing to rewrite any code.\n",
    "\n",
    "I have frequently mixed Stata and Julia. There are some tasks I could not figure out how to feasibily do in Stata because it required some custom algorithms. I did the initial data processing in Stata, saved it to disk, and opened it in Julia to do the complicated stuff. This can be automated in a Stata do file since Stata can issue shell commands."
   ]
  }
 ],
 "metadata": {
  "kernelspec": {
   "display_name": "Julia 1.1.1",
   "language": "julia",
   "name": "julia-1.1"
  },
  "language_info": {
   "file_extension": ".jl",
   "mimetype": "application/julia",
   "name": "julia",
   "version": "1.1.1"
  }
 },
 "nbformat": 4,
 "nbformat_minor": 2
}
