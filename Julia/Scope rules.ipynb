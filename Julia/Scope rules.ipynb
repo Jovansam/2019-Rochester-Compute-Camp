{
 "cells": [
  {
   "cell_type": "markdown",
   "metadata": {},
   "source": [
    "# Basic scope\n",
    "In Julia, whenever you are not inside a function, your variables will have global scope. This means they are visible anywhere, so we can do things like this"
   ]
  },
  {
   "cell_type": "code",
   "execution_count": 85,
   "metadata": {},
   "outputs": [
    {
     "data": {
      "text/plain": [
       "8"
      ]
     },
     "execution_count": 85,
     "metadata": {},
     "output_type": "execute_result"
    }
   ],
   "source": [
    "a = 5\n",
    "function test(x)\n",
    "    x + a\n",
    "end\n",
    "test(3)"
   ]
  },
  {
   "cell_type": "markdown",
   "metadata": {},
   "source": [
    "In contrast, variables defined inside a function are only visible within that function."
   ]
  },
  {
   "cell_type": "code",
   "execution_count": 86,
   "metadata": {},
   "outputs": [
    {
     "data": {
      "text/plain": [
       "4"
      ]
     },
     "execution_count": 86,
     "metadata": {},
     "output_type": "execute_result"
    }
   ],
   "source": [
    "function test1(x)\n",
    "    b = 2\n",
    "    x + b\n",
    "end\n",
    "test1(2) # b is visible"
   ]
  },
  {
   "cell_type": "code",
   "execution_count": 87,
   "metadata": {},
   "outputs": [
    {
     "ename": "UndefVarError",
     "evalue": "UndefVarError: b not defined",
     "output_type": "error",
     "traceback": [
      "UndefVarError: b not defined",
      "",
      "Stacktrace:",
      " [1] test2(::Int64) at ./In[87]:2",
      " [2] top-level scope at In[87]:4"
     ]
    }
   ],
   "source": [
    "function test2(x)\n",
    "    x + b\n",
    "end\n",
    "test2(2) # It can't find b"
   ]
  },
  {
   "cell_type": "markdown",
   "metadata": {},
   "source": [
    "These rules also extend to loops, which, like functions, introduce their own scope blocks. Notably, variables defined inside a scope block do not leave it. This means, as we saw above with `b`, you can't define a variable inside a loop (or a function) and access it outside."
   ]
  },
  {
   "cell_type": "code",
   "execution_count": 88,
   "metadata": {},
   "outputs": [
    {
     "name": "stdout",
     "output_type": "stream",
     "text": [
      "i + a = 6\n",
      "i + a = 7\n",
      "i + a = 8\n"
     ]
    }
   ],
   "source": [
    "for i = 1:3\n",
    "    @show i + a # We can see the global a\n",
    "end"
   ]
  },
  {
   "cell_type": "code",
   "execution_count": 89,
   "metadata": {},
   "outputs": [
    {
     "name": "stdout",
     "output_type": "stream",
     "text": [
      "i + a = 6\n",
      "i + a = 7\n",
      "i + a = 8\n"
     ]
    },
    {
     "ename": "UndefVarError",
     "evalue": "UndefVarError: b not defined",
     "output_type": "error",
     "traceback": [
      "UndefVarError: b not defined",
      "",
      "Stacktrace:",
      " [1] top-level scope at In[89]:5"
     ]
    }
   ],
   "source": [
    "for i = 1:3\n",
    "    b = 3\n",
    "    @show i + a\n",
    "end\n",
    "b"
   ]
  },
  {
   "cell_type": "markdown",
   "metadata": {},
   "source": [
    "You are allowed to modify global variables from inside loops, though doing this is discouraged. You can't modify global variables from inside functions unless you use the global keyword."
   ]
  },
  {
   "cell_type": "code",
   "execution_count": 90,
   "metadata": {},
   "outputs": [
    {
     "data": {
      "text/plain": [
       "5"
      ]
     },
     "execution_count": 90,
     "metadata": {},
     "output_type": "execute_result"
    }
   ],
   "source": [
    "function test3(x)\n",
    "    a = 8\n",
    "    x + a\n",
    "end\n",
    "test3(2)\n",
    "a # a was not modified"
   ]
  },
  {
   "cell_type": "code",
   "execution_count": 91,
   "metadata": {},
   "outputs": [
    {
     "data": {
      "text/plain": [
       "8"
      ]
     },
     "execution_count": 91,
     "metadata": {},
     "output_type": "execute_result"
    }
   ],
   "source": [
    "function test3(x)\n",
    "    global a = 8\n",
    "    x + a\n",
    "end\n",
    "test3(2)\n",
    "a # a was modified"
   ]
  },
  {
   "cell_type": "code",
   "execution_count": 92,
   "metadata": {},
   "outputs": [
    {
     "data": {
      "text/plain": [
       "3"
      ]
     },
     "execution_count": 92,
     "metadata": {},
     "output_type": "execute_result"
    }
   ],
   "source": [
    "s = 0\n",
    "for i = 1:3\n",
    "    s += 1\n",
    "    # The following line does the same thing\n",
    "    #global s +=1\n",
    "end\n",
    "s # s was modified"
   ]
  },
  {
   "cell_type": "markdown",
   "metadata": {},
   "source": [
    "Technical note. The previous example of modifying the global s inside the for loop only works in Jupyter notebooks. This was done in order to make life easier for beginners doing their homework. The previous example would be an error in a regular Julia session (or in Atom), unless you specified the global keyword.\n",
    "\n",
    "Regardless, it's better style to use the global keyword. Modifying global variables can have unintended side effects later on in your program. \n",
    "\n",
    "The QuantEcon notebooks have good style. They use global variables to set things up, but have the main work done inside functions which take arguments. Accessing global variables from inside functions is discouraged in serious work. It's better to be explicit about the variables in scope by using arguments.\n",
    "\n"
   ]
  },
  {
   "cell_type": "markdown",
   "metadata": {},
   "source": [
    "# Performance problems of accessing global variables inside functions\n",
    "\n",
    "As stated earlier, using global variables in a function is considered poor style. It is also very bad for performance."
   ]
  },
  {
   "cell_type": "code",
   "execution_count": 93,
   "metadata": {},
   "outputs": [
    {
     "name": "stdout",
     "output_type": "stream",
     "text": [
      "add1(3) = 6.0\n",
      "add2(3, ρ) = 6.0\n",
      "  0.003955 seconds (200.00 k allocations: 3.052 MiB)\n",
      "  0.000290 seconds (5 allocations: 176 bytes)\n"
     ]
    },
    {
     "data": {
      "text/plain": [
       "6.0"
      ]
     },
     "execution_count": 93,
     "metadata": {},
     "output_type": "execute_result"
    }
   ],
   "source": [
    "using Random\n",
    "ρ = 0.5\n",
    "function add1(x)\n",
    "    s = 0.\n",
    "    for i = 1:100000\n",
    "        s = ρ*s + x\n",
    "    end\n",
    "    s\n",
    "end\n",
    "\n",
    "function add2(x, ρ)\n",
    "    s = 0.\n",
    "    for i = 1:100000\n",
    "        s = ρ*s + x\n",
    "    end\n",
    "    s\n",
    "end\n",
    "@show add1(3)\n",
    "@show add2(3, ρ); # Same output\n",
    "@time add1(3)\n",
    "@time add2(3, ρ) # First version takes much more time"
   ]
  },
  {
   "cell_type": "markdown",
   "metadata": {},
   "source": [
    "This introduces the concept of \"type stability\" which is a little complicated. The gist is that because $\\rho$ in the first function is global, Julia can't guarantee it won't change type somewhere along the way, since global variables can be modified anywhere. Therefore, it has to check the type at run time, instead of when the function is compiled. See https://docs.julialang.org/en/v1/manual/faq/#man-type-stability-1 for a definition of \"type-stable\" and https://lectures.quantecon.org/jl/more_julia/need_for_speed.html for more information and performance tips."
   ]
  },
  {
   "cell_type": "markdown",
   "metadata": {},
   "source": [
    "Be careful about accidentally using global variables in functions. First, you will have performance problems. Second, you may introduce subtle bugs. For example, let's say I had defined a $\\alpha$ globally. In my function, I indended to use a parameter $\\beta$, but accidentally wrote alpha."
   ]
  },
  {
   "cell_type": "code",
   "execution_count": 96,
   "metadata": {},
   "outputs": [
    {
     "data": {
      "text/plain": [
       "4.0"
      ]
     },
     "execution_count": 96,
     "metadata": {},
     "output_type": "execute_result"
    }
   ],
   "source": [
    "α = 3.\n",
    "function usebeta(x, β)\n",
    "    x + α\n",
    "end\n",
    "usebeta(1., 50) # The second argument is unused!"
   ]
  },
  {
   "cell_type": "markdown",
   "metadata": {},
   "source": [
    "This may seem implausible, but I've experienced similar bugs when working on projects with hundreds of variables."
   ]
  },
  {
   "cell_type": "markdown",
   "metadata": {},
   "source": [
    "# Closures\n",
    "\n",
    "We can define nested functions. These functions can access variables declared in their parent function."
   ]
  },
  {
   "cell_type": "code",
   "execution_count": 94,
   "metadata": {},
   "outputs": [
    {
     "data": {
      "text/plain": [
       "9.0"
      ]
     },
     "execution_count": 94,
     "metadata": {},
     "output_type": "execute_result"
    }
   ],
   "source": [
    "function ctest(x)\n",
    "    a = 3 + x\n",
    "    function my_close(y)\n",
    "        y + a # a is visible\n",
    "    end\n",
    "    my_close(5.)\n",
    "end\n",
    "ctest(1.)"
   ]
  },
  {
   "cell_type": "markdown",
   "metadata": {},
   "source": [
    "The usual reason we do this is because we need to pass a function as an argument, for example, to an optimization routine. This is extremely common in economics. We'll need to solve the same problem for different parameter values."
   ]
  },
  {
   "cell_type": "code",
   "execution_count": 95,
   "metadata": {},
   "outputs": [
    {
     "data": {
      "text/plain": [
       "Results of Optimization Algorithm\n",
       " * Algorithm: Brent's Method\n",
       " * Search Interval: [-10.000000, 10.000000]\n",
       " * Minimizer: 2.500000e+00\n",
       " * Minimum: -8.250000e+00\n",
       " * Iterations: 5\n",
       " * Convergence: max(|x - x_upper|, |x - x_lower|) <= 2*(1.5e-08*|x|+2.2e-16): true\n",
       " * Objective Function Calls: 6"
      ]
     },
     "execution_count": 95,
     "metadata": {},
     "output_type": "execute_result"
    }
   ],
   "source": [
    "using Optim\n",
    "function opttest(x)\n",
    "    myfun(y) = y^2 - x*y - 2\n",
    "    optimize(myfun, -10, 10) \n",
    "end\n",
    "opttest(2.) # Minimizes the function y^2 - 2y - 2\n",
    "opttest(5.) # Minimizes the function y^2 - 5y - 2\n"
   ]
  }
 ],
 "metadata": {
  "kernelspec": {
   "display_name": "Julia 1.2.0",
   "language": "julia",
   "name": "julia-1.2"
  },
  "language_info": {
   "file_extension": ".jl",
   "mimetype": "application/julia",
   "name": "julia",
   "version": "1.2.0"
  }
 },
 "nbformat": 4,
 "nbformat_minor": 2
}
