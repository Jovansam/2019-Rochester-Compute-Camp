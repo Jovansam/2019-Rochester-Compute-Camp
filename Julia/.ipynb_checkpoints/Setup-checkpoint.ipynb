{
 "cells": [
  {
   "cell_type": "markdown",
   "metadata": {},
   "source": [
    "# Setup\n",
    "1. Download Julia 0.7 from https://julialang.org/downloads/ . Scroll down for 0.7. Install it\n",
    "2. Open Julia\n",
    "3. Hit ] to enter the package manager\n",
    "4. Type \"add PyPlot Optim Roots NLsolve Distributions DataFrames\" and wait a few minutes\n",
    "5. Hit backspace to exit the package manager"
   ]
  }
 ],
 "metadata": {
  "kernelspec": {
   "display_name": "Julia 0.7.0",
   "language": "julia",
   "name": "julia-0.7"
  },
  "language_info": {
   "file_extension": ".jl",
   "mimetype": "application/julia",
   "name": "julia",
   "version": "0.7.0"
  }
 },
 "nbformat": 4,
 "nbformat_minor": 2
}
