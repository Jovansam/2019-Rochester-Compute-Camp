{
 "cells": [
  {
   "cell_type": "markdown",
   "metadata": {},
   "source": [
    "Here we will simulate data from a model and estimate it by OLS"
   ]
  },
  {
   "cell_type": "code",
   "execution_count": 3,
   "metadata": {},
   "outputs": [
    {
     "name": "stdout",
     "output_type": "stream",
     "text": [
      "randn() = -0.11415341347910446\n",
      "randn(5) = [-1.22553, 0.370627, -1.17631, -1.63899, -0.866084]\n"
     ]
    }
   ],
   "source": [
    "## The randn function generates draws from a standard normal\n",
    "@show randn()\n",
    "@show randn(5);"
   ]
  },
  {
   "cell_type": "markdown",
   "metadata": {},
   "source": [
    "Before we do the simulation with randn, I want to highlight a useful package, Distributions.jl. It is an all in one stop for all common probability distributions, computing statistics about them, getting their PDF or CDF, and drawing samples from them."
   ]
  },
  {
   "cell_type": "code",
   "execution_count": 7,
   "metadata": {},
   "outputs": [
    {
     "data": {
      "text/plain": [
       "Pareto{Float64}(α=2.0, θ=5.0)"
      ]
     },
     "execution_count": 7,
     "metadata": {},
     "output_type": "execute_result"
    }
   ],
   "source": [
    "using Distributions\n",
    "d = Pareto(2., 5.)"
   ]
  },
  {
   "cell_type": "markdown",
   "metadata": {},
   "source": [
    "The center of Distributions is distribution objects like the one above. d is a Pareto(2, 5) random variable."
   ]
  },
  {
   "cell_type": "code",
   "execution_count": 8,
   "metadata": {},
   "outputs": [
    {
     "name": "stdout",
     "output_type": "stream",
     "text": [
      "rand(d) = 9.296768879595753\n",
      "rand(d, 5) = [7.60277, 6.88499, 5.71946, 6.03954, 5.44703]\n",
      "cdf(d, 3.0) = 0.0\n",
      "mean(d) = 10.0\n",
      "std(d) = Inf\n"
     ]
    }
   ],
   "source": [
    "@show rand(d)\n",
    "@show rand(d, 5)\n",
    "@show cdf(d, 3.)\n",
    "@show mean(d)\n",
    "@show std(d);"
   ]
  },
  {
   "cell_type": "markdown",
   "metadata": {},
   "source": [
    "Distributions also supports multivariate distributions, like the multivariate normal with a covariance matrix of your choice. It also supports truncated distributions and mixture models. All of the above methods will work regardless of how fancy your distribution becomes. For example, here is a mixture of a truncated normal and an exponential distribution."
   ]
  },
  {
   "cell_type": "code",
   "execution_count": 19,
   "metadata": {},
   "outputs": [
    {
     "name": "stdout",
     "output_type": "stream",
     "text": [
      "d = Truncated(Normal(2, 3), 0, Inf) = Truncated(Normal{Float64}(μ=2.0, σ=3.0), range=(0.0, Inf))\n",
      "rand(d) = 1.8754507881707987\n",
      "rand(d, 5) = [8.60045, 4.55551, 3.28152, 7.30026, 6.16332]\n",
      "cdf(d, 3.0) = 0.5057690274162923\n",
      "mean(d) = 3.2820527749944897\n",
      "std(d) = 2.189117432240662\n",
      "dm = MixtureModel([d, d2], [0.3, 0.7]) = MixtureModel{Distribution{Univariate,Continuous}}(K = 2)\n",
      "components[1] (prior = 0.3000): Truncated(Normal{Float64}(μ=2.0, σ=3.0), range=(0.0, Inf))\n",
      "components[2] (prior = 0.7000): Exponential{Float64}(θ=0.3)\n",
      "\n",
      "rand(d) = 1.6493941495170263\n",
      "rand(d, 5) = [1.69542, 1.51883, 3.46869, 1.20485, 2.49008]\n",
      "cdf(d, 3.0) = 0.5057690274162923\n",
      "mean(d) = 3.2820527749944897\n",
      "std(d) = 2.189117432240662\n"
     ]
    }
   ],
   "source": [
    "@show d = Truncated(Normal(2, 3), 0, Inf)\n",
    "@show rand(d)\n",
    "@show rand(d, 5)\n",
    "@show cdf(d, 3.)\n",
    "@show mean(d)\n",
    "@show std(d);\n",
    "d2 = Exponential(0.3)\n",
    "@show dm = MixtureModel([d, d2], [0.3, 0.7])\n",
    "@show rand(d)\n",
    "@show rand(d, 5)\n",
    "@show cdf(d, 3.)\n",
    "@show mean(d)\n",
    "@show std(d);"
   ]
  },
  {
   "cell_type": "markdown",
   "metadata": {},
   "source": [
    "Back to the econometrics simulation.\n"
   ]
  }
 ],
 "metadata": {
  "kernelspec": {
   "display_name": "Julia 0.7.0",
   "language": "julia",
   "name": "julia-0.7"
  },
  "language_info": {
   "file_extension": ".jl",
   "mimetype": "application/julia",
   "name": "julia",
   "version": "0.7.0"
  }
 },
 "nbformat": 4,
 "nbformat_minor": 2
}
