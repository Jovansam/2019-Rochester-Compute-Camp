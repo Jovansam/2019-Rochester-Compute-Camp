{
 "cells": [
  {
   "cell_type": "markdown",
   "metadata": {},
   "source": [
    "if statements are more or less the same as in Matlab"
   ]
  },
  {
   "cell_type": "code",
   "execution_count": 22,
   "metadata": {},
   "outputs": [
    {
     "data": {
      "text/plain": [
       "\"A is less than 0.5\""
      ]
     },
     "execution_count": 22,
     "metadata": {},
     "output_type": "execute_result"
    }
   ],
   "source": [
    "A = 0.3\n",
    "if A < 0.5\n",
    "    \"A is less than 0.5\"\n",
    "end"
   ]
  },
  {
   "cell_type": "code",
   "execution_count": 23,
   "metadata": {},
   "outputs": [
    {
     "data": {
      "text/plain": [
       "\"B is between 0.5 and 0.75\""
      ]
     },
     "execution_count": 23,
     "metadata": {},
     "output_type": "execute_result"
    }
   ],
   "source": [
    "B = 0.6\n",
    "if B < 0.5\n",
    "    \"B is less than 0.5\"\n",
    "elseif B >= 0.5 && B < 0.75\n",
    "     \"B is between 0.5 and 0.75\"\n",
    "else\n",
    "    \"B is greater than 0.75\"\n",
    "end"
   ]
  },
  {
   "cell_type": "markdown",
   "metadata": {},
   "source": [
    "For loops can be as in Matlab, but are more flexible. You can use = or in. I prefer in. The following loops are all the same."
   ]
  },
  {
   "cell_type": "code",
   "execution_count": 24,
   "metadata": {},
   "outputs": [
    {
     "name": "stdout",
     "output_type": "stream",
     "text": [
      "A[i] = 0.1929455702959888\n",
      "A[i] = 0.8478439995430871\n",
      "A[i] = 0.16662991623934476\n"
     ]
    }
   ],
   "source": [
    "A = rand(3)\n",
    "for i in 1:3\n",
    "    @show A[i]\n",
    "end"
   ]
  },
  {
   "cell_type": "code",
   "execution_count": 25,
   "metadata": {},
   "outputs": [
    {
     "name": "stdout",
     "output_type": "stream",
     "text": [
      "A[i] = 0.1929455702959888\n",
      "A[i] = 0.8478439995430871\n",
      "A[i] = 0.16662991623934476\n"
     ]
    }
   ],
   "source": [
    "for i in eachindex(A)\n",
    "    @show A[i]\n",
    "end"
   ]
  },
  {
   "cell_type": "code",
   "execution_count": 26,
   "metadata": {},
   "outputs": [
    {
     "name": "stdout",
     "output_type": "stream",
     "text": [
      "a = 0.1929455702959888\n",
      "a = 0.8478439995430871\n",
      "a = 0.16662991623934476\n"
     ]
    }
   ],
   "source": [
    "for a in A\n",
    "    @show a\n",
    "end"
   ]
  }
 ],
 "metadata": {
  "kernelspec": {
   "display_name": "Julia 1.1.1",
   "language": "julia",
   "name": "julia-1.1"
  },
  "language_info": {
   "file_extension": ".jl",
   "mimetype": "application/julia",
   "name": "julia",
   "version": "1.1.1"
  }
 },
 "nbformat": 4,
 "nbformat_minor": 2
}
