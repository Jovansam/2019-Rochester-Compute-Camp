{
 "cells": [
  {
   "cell_type": "markdown",
   "metadata": {},
   "source": [
    "Here we will simulate data from a model and estimate it by OLS"
   ]
  },
  {
   "cell_type": "code",
   "execution_count": 29,
   "metadata": {},
   "outputs": [
    {
     "name": "stdout",
     "output_type": "stream",
     "text": [
      "randn() = 0.9021436595870373\n",
      "randn(5) = [-0.0805162, -0.538979, 1.36186, 1.12214, -1.50333]\n"
     ]
    }
   ],
   "source": [
    "## The randn function generates draws from a standard normal\n",
    "@show randn()\n",
    "@show randn(5);"
   ]
  },
  {
   "cell_type": "markdown",
   "metadata": {},
   "source": [
    "Before we do the simulation with randn, I want to highlight a useful package, Distributions.jl. It is an all in one stop for all common probability distributions, computing statistics about them, getting their PDF or CDF, and drawing samples from them."
   ]
  },
  {
   "cell_type": "code",
   "execution_count": 30,
   "metadata": {},
   "outputs": [
    {
     "data": {
      "text/plain": [
       "Pareto{Float64}(α=2.0, θ=5.0)"
      ]
     },
     "execution_count": 30,
     "metadata": {},
     "output_type": "execute_result"
    }
   ],
   "source": [
    "using Distributions\n",
    "d = Pareto(2., 5.)"
   ]
  },
  {
   "cell_type": "markdown",
   "metadata": {},
   "source": [
    "The center of Distributions is distribution objects like the one above. d is a Pareto(2, 5) random variable."
   ]
  },
  {
   "cell_type": "code",
   "execution_count": 31,
   "metadata": {},
   "outputs": [
    {
     "name": "stdout",
     "output_type": "stream",
     "text": [
      "rand(d) = 5.578027376711927\n",
      "rand(d, 5) = [10.6515, 5.34295, 6.34295, 6.01398, 5.16549]\n",
      "cdf(d, 3.0) = 0.0\n",
      "mean(d) = 10.0\n",
      "std(d) = Inf\n"
     ]
    }
   ],
   "source": [
    "@show rand(d)\n",
    "@show rand(d, 5)\n",
    "@show cdf(d, 3.)\n",
    "@show mean(d)\n",
    "@show std(d);"
   ]
  },
  {
   "cell_type": "markdown",
   "metadata": {},
   "source": [
    "Distributions also supports multivariate distributions, like the multivariate normal with a covariance matrix of your choice. It also supports truncated distributions and mixture models. All of the above methods will work regardless of how fancy your distribution becomes. For example, here is a mixture of a truncated normal and an exponential distribution."
   ]
  },
  {
   "cell_type": "code",
   "execution_count": 32,
   "metadata": {},
   "outputs": [
    {
     "name": "stdout",
     "output_type": "stream",
     "text": [
      "d = Truncated(Normal(2, 3), 0, Inf) = Truncated(Normal{Float64}(μ=2.0, σ=3.0), range=(0.0, Inf))\n",
      "rand(d) = 0.12186925804264437\n",
      "rand(d, 5) = [6.18368, 6.2769, 6.46653, 1.54947, 0.0367903]\n",
      "cdf(d, 3.0) = 0.5057690274162923\n",
      "mean(d) = 3.2820527749944897\n",
      "std(d) = 2.189117432240662\n",
      "dm = MixtureModel([d, d2], [0.3, 0.7]) = MixtureModel{Distribution{Univariate,Continuous}}(K = 2)\n",
      "components[1] (prior = 0.3000): Truncated(Normal{Float64}(μ=2.0, σ=3.0), range=(0.0, Inf))\n",
      "components[2] (prior = 0.7000): Exponential{Float64}(θ=0.3)\n",
      "\n",
      "rand(d) = 4.810883953175118\n",
      "rand(d, 5) = [3.22119, 2.81584, 5.76233, 4.15435, 6.51725]\n",
      "cdf(d, 3.0) = 0.5057690274162923\n",
      "mean(d) = 3.2820527749944897\n",
      "std(d) = 2.189117432240662\n"
     ]
    }
   ],
   "source": [
    "@show d = Truncated(Normal(2, 3), 0, Inf)\n",
    "@show rand(d)\n",
    "@show rand(d, 5)\n",
    "@show cdf(d, 3.)\n",
    "@show mean(d)\n",
    "@show std(d);\n",
    "d2 = Exponential(0.3)\n",
    "@show dm = MixtureModel([d, d2], [0.3, 0.7])\n",
    "@show rand(d)\n",
    "@show rand(d, 5)\n",
    "@show cdf(d, 3.)\n",
    "@show mean(d)\n",
    "@show std(d);"
   ]
  },
  {
   "cell_type": "markdown",
   "metadata": {},
   "source": [
    "Back to the econometrics simulation."
   ]
  },
  {
   "cell_type": "code",
   "execution_count": 33,
   "metadata": {},
   "outputs": [
    {
     "data": {
      "text/plain": [
       "2-element Array{Float64,1}:\n",
       " 1.8148726694489727\n",
       " 2.2188221846750973"
      ]
     },
     "execution_count": 33,
     "metadata": {},
     "output_type": "execute_result"
    }
   ],
   "source": [
    "using Statistics # the var function is in the Statistics package\n",
    "N = 100\n",
    "X = rand(100, 2)\n",
    "X = [ones(100, 1) X]\n",
    "beta = [5\n",
    "2\n",
    "3]\n",
    "u = rand(100, 1)\n",
    "Y = X*beta + u\n",
    "betahat = (X' * X)\\(X' * Y)\n",
    "eps = Y - X*betahat\n",
    "sigma_eps = var(eps)\n",
    "betahat_var = (X' * X)^-1 * sigma_eps\n",
    "[betahat[2] - 1.96*sqrt(betahat_var[2, 2]) \n",
    "    betahat[2] + 1.96*sqrt(betahat_var[2, 2])]"
   ]
  },
  {
   "cell_type": "markdown",
   "metadata": {},
   "source": [
    "This is literally copy and pasted from the Matlab code. I just changed the () to [] for array indexing.\n",
    "\n",
    "Here is the measurement error"
   ]
  },
  {
   "cell_type": "code",
   "execution_count": 34,
   "metadata": {},
   "outputs": [
    {
     "data": {
      "text/plain": [
       "0.9882823917052272"
      ]
     },
     "execution_count": 34,
     "metadata": {},
     "output_type": "execute_result"
    }
   ],
   "source": [
    "Xnoise = copy(X) # This creates a copy of X and calls it Xnoise\n",
    "Xnoise[:, 2] = X[:, 2] + rand(100, 1)\n",
    "betahat_noise = (Xnoise' * Xnoise)\\(Xnoise' * Y)\n",
    "betahat_noise[2]"
   ]
  },
  {
   "cell_type": "markdown",
   "metadata": {},
   "source": [
    "It is almost the same, but remember to copy A or you will be modifying the origianl data."
   ]
  }
 ],
 "metadata": {
  "kernelspec": {
   "display_name": "Julia 1.1.1",
   "language": "julia",
   "name": "julia-1.1"
  },
  "language_info": {
   "file_extension": ".jl",
   "mimetype": "application/julia",
   "name": "julia",
   "version": "1.1.1"
  }
 },
 "nbformat": 4,
 "nbformat_minor": 2
}
