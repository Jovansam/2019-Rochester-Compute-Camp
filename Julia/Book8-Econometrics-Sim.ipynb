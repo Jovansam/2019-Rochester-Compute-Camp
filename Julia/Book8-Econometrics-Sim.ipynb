{
 "cells": [
  {
   "cell_type": "markdown",
   "metadata": {},
   "source": [
    "Here we will simulate data from a model and estimate it by OLS"
   ]
  },
  {
   "cell_type": "code",
   "execution_count": 13,
   "metadata": {},
   "outputs": [
    {
     "name": "stdout",
     "output_type": "stream",
     "text": [
      "randn() = 0.9277612466058307\n",
      "randn(5) = [1.23344, -1.48006, -0.652813, 1.52045, 1.0823]\n"
     ]
    }
   ],
   "source": [
    "## The randn function generates draws from a standard normal\n",
    "@show randn()\n",
    "@show randn(5);"
   ]
  },
  {
   "cell_type": "markdown",
   "metadata": {},
   "source": [
    "Before we do the simulation with randn, I want to highlight a useful package, Distributions.jl. It is an all in one stop for all common probability distributions, computing statistics about them, getting their PDF or CDF, and drawing samples from them."
   ]
  },
  {
   "cell_type": "code",
   "execution_count": 14,
   "metadata": {},
   "outputs": [
    {
     "data": {
      "text/plain": [
       "Pareto{Float64}(α=2.0, θ=5.0)"
      ]
     },
     "execution_count": 14,
     "metadata": {},
     "output_type": "execute_result"
    }
   ],
   "source": [
    "using Distributions\n",
    "d = Pareto(2., 5.)"
   ]
  },
  {
   "cell_type": "markdown",
   "metadata": {},
   "source": [
    "The center of Distributions is distribution objects like the one above. d is a Pareto(2, 5) random variable."
   ]
  },
  {
   "cell_type": "code",
   "execution_count": 15,
   "metadata": {},
   "outputs": [
    {
     "name": "stdout",
     "output_type": "stream",
     "text": [
      "rand(d) = 6.332489713646807\n",
      "rand(d, 5) = [6.04932, 5.32044, 10.6168, 6.46565, 5.32643]\n",
      "cdf(d, 3.0) = 0.0\n",
      "mean(d) = 10.0\n",
      "std(d) = Inf\n"
     ]
    }
   ],
   "source": [
    "@show rand(d)\n",
    "@show rand(d, 5)\n",
    "@show cdf(d, 3.)\n",
    "@show mean(d)\n",
    "@show std(d);"
   ]
  },
  {
   "cell_type": "markdown",
   "metadata": {},
   "source": [
    "Distributions also supports multivariate distributions, like the multivariate normal with a covariance matrix of your choice. It also supports truncated distributions and mixture models. All of the above methods will work regardless of how fancy your distribution becomes. For example, here is a mixture of a truncated normal and an exponential distribution."
   ]
  },
  {
   "cell_type": "code",
   "execution_count": 16,
   "metadata": {},
   "outputs": [
    {
     "name": "stdout",
     "output_type": "stream",
     "text": [
      "d = Truncated(Normal(2, 3), 0, Inf) = Truncated(Normal{Float64}(μ=2.0, σ=3.0), range=(0.0, Inf))\n",
      "rand(d) = 0.04414177092599969\n",
      "rand(d, 5) = [6.38473, 2.51138, 3.16347, 4.40306, 3.28885]\n",
      "cdf(d, 3.0) = 0.5057690274162923\n",
      "mean(d) = 3.2820527749944897\n",
      "std(d) = 2.189117432240662\n",
      "dm = MixtureModel([d, d2], [0.3, 0.7]) = MixtureModel{Distribution{Univariate,Continuous}}(K = 2)\n",
      "components[1] (prior = 0.3000): Truncated(Normal{Float64}(μ=2.0, σ=3.0), range=(0.0, Inf))\n",
      "components[2] (prior = 0.7000): Exponential{Float64}(θ=0.3)\n",
      "\n",
      "rand(d) = 2.073703111896333\n",
      "rand(d, 5) = [1.59587, 3.45169, 1.26747, 2.87791, 4.9364]\n",
      "cdf(d, 3.0) = 0.5057690274162923\n",
      "mean(d) = 3.2820527749944897\n",
      "std(d) = 2.189117432240662\n"
     ]
    }
   ],
   "source": [
    "@show d = Truncated(Normal(2, 3), 0, Inf)\n",
    "@show rand(d)\n",
    "@show rand(d, 5)\n",
    "@show cdf(d, 3.)\n",
    "@show mean(d)\n",
    "@show std(d);\n",
    "d2 = Exponential(0.3)\n",
    "@show dm = MixtureModel([d, d2], [0.3, 0.7])\n",
    "@show rand(d)\n",
    "@show rand(d, 5)\n",
    "@show cdf(d, 3.)\n",
    "@show mean(d)\n",
    "@show std(d);"
   ]
  },
  {
   "cell_type": "markdown",
   "metadata": {},
   "source": [
    "Back to the econometrics simulation."
   ]
  },
  {
   "cell_type": "code",
   "execution_count": 22,
   "metadata": {},
   "outputs": [
    {
     "data": {
      "text/plain": [
       "(β_2_lower = 1.7558828057294056, β_2_upper = 3.0240712772195666)"
      ]
     },
     "execution_count": 22,
     "metadata": {},
     "output_type": "execute_result"
    }
   ],
   "source": [
    "using Distributions\n",
    "using Statistics # the var function is in the Statistics package\n",
    "N = 100\n",
    "X = rand(100, 2)\n",
    "X = [ones(100, 1) X]\n",
    "beta = [5\n",
    "2\n",
    "3]\n",
    "dist = Normal()\n",
    "u = rand(dist, 100)\n",
    "Y = X*beta + u\n",
    "betahat = (X' * X)\\(X' * Y)\n",
    "eps = Y - X*betahat\n",
    "sigma_eps = var(eps)\n",
    "betahat_var = (X' * X)^-1 * sigma_eps\n",
    "(β_2_lower = betahat[2] - 1.96*sqrt(betahat_var[2, 2]), \n",
    "    β_2_upper = betahat[2] + 1.96*sqrt(betahat_var[2, 2]))"
   ]
  },
  {
   "cell_type": "markdown",
   "metadata": {},
   "source": [
    "This is literally copy and pasted from the Matlab code. I just changed the () to [] for array indexing.\n",
    "\n",
    "Here is the measurement error"
   ]
  },
  {
   "cell_type": "code",
   "execution_count": 24,
   "metadata": {},
   "outputs": [
    {
     "data": {
      "text/plain": [
       "1.3303752684925518"
      ]
     },
     "execution_count": 24,
     "metadata": {},
     "output_type": "execute_result"
    }
   ],
   "source": [
    "Xnoise = copy(X) # This creates a copy of X and calls it Xnoise\n",
    "Xnoise[:, 2] = X[:, 2] + rand(100)\n",
    "betahat_noise = (Xnoise' * Xnoise)\\(Xnoise' * Y)\n",
    "betahat_noise[2]"
   ]
  },
  {
   "cell_type": "markdown",
   "metadata": {},
   "source": [
    "It is almost the same, but remember to copy A or you will be modifying the origianl data."
   ]
  }
 ],
 "metadata": {
  "kernelspec": {
   "display_name": "Julia 1.1.1",
   "language": "julia",
   "name": "julia-1.1"
  },
  "language_info": {
   "file_extension": ".jl",
   "mimetype": "application/julia",
   "name": "julia",
   "version": "1.1.1"
  }
 },
 "nbformat": 4,
 "nbformat_minor": 2
}
