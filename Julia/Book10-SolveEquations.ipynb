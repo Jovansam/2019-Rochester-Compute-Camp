{
 "cells": [
  {
   "cell_type": "code",
   "execution_count": 15,
   "metadata": {},
   "outputs": [],
   "source": [
    "using Roots, NLsolve"
   ]
  },
  {
   "cell_type": "markdown",
   "metadata": {},
   "source": [
    "Now we will do non-linear equation solving. Univariate and multivariate root-finding are actually in two different packages at the moment. Roots is univariate."
   ]
  },
  {
   "cell_type": "code",
   "execution_count": 16,
   "metadata": {},
   "outputs": [
    {
     "data": {
      "text/plain": [
       "0.010133333333333328"
      ]
     },
     "execution_count": 16,
     "metadata": {},
     "output_type": "execute_result"
    }
   ],
   "source": [
    "w = 3.;\n",
    "beta = 0.96;\n",
    "R = 1.01;\n",
    "eulerfun(a) = 1/(w - a) - beta*R*1/(w + R*a);\n",
    "eulerfun(0)"
   ]
  },
  {
   "cell_type": "code",
   "execution_count": 17,
   "metadata": {},
   "outputs": [
    {
     "data": {
      "text/plain": [
       "-0.04606991311376025"
      ]
     },
     "execution_count": 17,
     "metadata": {},
     "output_type": "execute_result"
    }
   ],
   "source": [
    "ret = find_zero(eulerfun, 0)"
   ]
  },
  {
   "cell_type": "markdown",
   "metadata": {},
   "source": [
    "Let's try the system of non-linear equations. We can make this a lot cleaner looking than the Matlab version."
   ]
  },
  {
   "cell_type": "code",
   "execution_count": 18,
   "metadata": {},
   "outputs": [
    {
     "data": {
      "text/plain": [
       "Results of Nonlinear Solver Algorithm\n",
       " * Algorithm: Trust-region with dogleg and autoscaling\n",
       " * Starting Point: [0.0, 0.5, 0.5]\n",
       " * Zero: [-0.0460699, 0.390786, 0.409306]\n",
       " * Inf-norm of residuals: 0.000000\n",
       " * Iterations: 3\n",
       " * Convergence: true\n",
       "   * |x - x'| < 0.0e+00: false\n",
       "   * |f(x)| < 1.0e-08: true\n",
       " * Function Calls (f): 4\n",
       " * Jacobian Calls (df/dx): 4"
      ]
     },
     "execution_count": 18,
     "metadata": {},
     "output_type": "execute_result"
    }
   ],
   "source": [
    "function eulerfun(x)\n",
    "    a, h1, h2 = x[1], x[2], x[3]\n",
    "    out = zeros(3)\n",
    "    c1 = w*h1 - a\n",
    "    c2 = w*h2 + R*a\n",
    "    (h1 >= 1 || h2 >= 1) && return Inf*out\n",
    "    (c1 <= 0 || h2 <= 0) && return Inf*out\n",
    "    out[1] = 1/c1 - beta*R*1/c2\n",
    "    out[2] = w*1/c1 - alpha_h/(1 - h1)\n",
    "    out[3] = w*1/c2 - alpha_h/(1 - h2)\n",
    "    out\n",
    "end\n",
    "ret = nlsolve(eulerfun, [0; 0.5; 0.5]; inplace = false)"
   ]
  },
  {
   "cell_type": "markdown",
   "metadata": {},
   "source": [
    "The ;inplace = false argument in nlsolve is called a keyword argument. It tells nlsolve that eulerfun returns its array instead of mutating it in place. If you are solving a non-linear system with thousands of equations, you should mutate, but for our purposes this is easier.\n",
    "\n",
    "The return Inf*out parts were not strictly neccesary, but again it is a good idea to handle implausible values manually. Other marginal utility functions might not have been defined for negative arguments.\n",
    "\n",
    "It is common to define simple functions to make code even cleaner. Look at this"
   ]
  },
  {
   "cell_type": "code",
   "execution_count": 19,
   "metadata": {},
   "outputs": [
    {
     "data": {
      "text/plain": [
       "Results of Nonlinear Solver Algorithm\n",
       " * Algorithm: Trust-region with dogleg and autoscaling\n",
       " * Starting Point: [0.0, 0.5, 0.5]\n",
       " * Zero: [-0.0460699, 0.390786, 0.409306]\n",
       " * Inf-norm of residuals: 0.000000\n",
       " * Iterations: 3\n",
       " * Convergence: true\n",
       "   * |x - x'| < 0.0e+00: false\n",
       "   * |f(x)| < 1.0e-08: true\n",
       " * Function Calls (f): 4\n",
       " * Jacobian Calls (df/dx): 4"
      ]
     },
     "execution_count": 19,
     "metadata": {},
     "output_type": "execute_result"
    }
   ],
   "source": [
    "uc(c) = 1/c\n",
    "uh(h) = alpha_h/(1 - h)\n",
    "function eulerfun(x)\n",
    "    a, h1, h2 = x[1], x[2], x[3]\n",
    "    out = zeros(3)\n",
    "    c1 = w*h1 - a\n",
    "    c2 = w*h2 + R*a\n",
    "    (h1 >= 1 || h2 >= 1) && return Inf*out\n",
    "    (c1 <= 0 || h2 <= 0) && return Inf*out\n",
    "    out[1] = uc(c1) - beta*R*uc(c2)\n",
    "    out[2] = w*uc(c1) - uh(h1)\n",
    "    out[3] = w*uc(c2) - uh(h2)\n",
    "    out\n",
    "end\n",
    "ret = nlsolve(eulerfun, [0; 0.5; 0.5]; inplace = false)"
   ]
  },
  {
   "cell_type": "markdown",
   "metadata": {},
   "source": [
    "This is how you would write this problem on the board, and makes the economic intuition clear from the code. Also, this version is much easier to generalize. If your model's utility function changes, uc and uh are the only lines you need to update.\n",
    "\n",
    "You should always try to do this. Your code will be much easier to read, debug, and modify if it looks like what you write on the board."
   ]
  }
 ],
 "metadata": {
  "kernelspec": {
   "display_name": "Julia 0.7.0",
   "language": "julia",
   "name": "julia-0.7"
  },
  "language_info": {
   "file_extension": ".jl",
   "mimetype": "application/julia",
   "name": "julia",
   "version": "0.7.0"
  }
 },
 "nbformat": 4,
 "nbformat_minor": 2
}
