{
 "cells": [
  {
   "cell_type": "code",
   "execution_count": 1,
   "metadata": {},
   "outputs": [],
   "source": [
    "using Distributed\n",
    "addprocs(4)\n",
    "using Interpolations, Optim, BenchmarkTools\n",
    "const agrid = exp.(range(log(1), stop = log(200), length = 100 ))\n",
    "const xgrid = 1:20\n",
    "uc(c) = c > 0 ? c^(-2.5)/-2.5 : -Inf\n",
    "u(a, ap, x) =  uc(a - ap + x)\n",
    "maxap(a, x) = a + x\n",
    "const beta = 0.96\n",
    "const P = rand(length(xgrid), length(xgrid))\n",
    "P .= P ./ sum(P, dims = 2); # markov chain"
   ]
  },
  {
   "cell_type": "code",
   "execution_count": 2,
   "metadata": {},
   "outputs": [
    {
     "data": {
      "text/plain": [
       "expectation (generic function with 1 method)"
      ]
     },
     "execution_count": 2,
     "metadata": {},
     "output_type": "execute_result"
    }
   ],
   "source": [
    "# Bellman step given evf and x\n",
    "function bellman(evf, x)\n",
    "    vf, pol = similar(evf), similar(evf)\n",
    "    for i in eachindex(vf)\n",
    "        a = agrid[i]\n",
    "        obj = ap -> -(u(a, ap, x) + beta * evf(ap))\n",
    "        upper = min(maxap(a, x), agrid[end])\n",
    "        sol = optimize(obj, agrid[1], .99*upper)\n",
    "        vf[i], pol[i] = -sol.minimum, sol.minimizer\n",
    "    end\n",
    "    return vf, pol\n",
    "end\n",
    "\n",
    "function expectation(bigvf, P)\n",
    "   evf = similar(bigvf)\n",
    "    for a_nx in 1:size(bigvf, 1)\n",
    "        for x_nx in 1:size(P, 1)\n",
    "        ev = 0.\n",
    "            for xp_nx in 1:size(P, 2)\n",
    "                ev += bigvf[a_nx, xp_nx] * P[x_nx, xp_nx]\n",
    "            end\n",
    "            evf[a_nx, x_nx] = ev\n",
    "        end\n",
    "    end\n",
    "    return evf\n",
    "end\n",
    "        \n",
    "        "
   ]
  },
  {
   "cell_type": "code",
   "execution_count": 3,
   "metadata": {},
   "outputs": [
    {
     "name": "stdout",
     "output_type": "stream",
     "text": [
      "  1.124 s (624100 allocations: 53.42 MiB)\n"
     ]
    }
   ],
   "source": [
    "    vfall = zeros(length(agrid), length(xgrid))\n",
    "    polall = zeros(length(agrid), length(xgrid))\n",
    "@btime for i in 1:100\n",
    "    fill!(vfall, 0)\n",
    "    fill!(polall, 0)\n",
    "    vfe = expectation(vfall, P)\n",
    "    for x_nx in eachindex(xgrid)\n",
    "        vfold = interpolate(agrid, vfe[:, x_nx], SteffenMonotonicInterpolation())\n",
    "        vf, pol = bellman(vfold, xgrid[x_nx])\n",
    "        vfall[:, x_nx] = vf; polall[:, x_nx] = pol\n",
    "    end\n",
    "    end seconds = 2"
   ]
  },
  {
   "cell_type": "code",
   "execution_count": null,
   "metadata": {},
   "outputs": [],
   "source": []
  },
  {
   "cell_type": "code",
   "execution_count": 4,
   "metadata": {},
   "outputs": [
    {
     "name": "stdout",
     "output_type": "stream",
     "text": [
      "  295.433 ms (596174 allocations: 50.86 MiB)\n"
     ]
    }
   ],
   "source": [
    "    vfall2 = zeros(length(agrid), length(xgrid))\n",
    "    polall = zeros(length(agrid), length(xgrid))\n",
    "@btime for i in 1:100\n",
    "    fill!(vfall2, 0)\n",
    "    fill!(polall, 0)\n",
    "    vfe = expectation(vfall2, P)\n",
    "    Threads.@threads for x_nx in eachindex(xgrid)\n",
    "        vfold = interpolate(agrid, vfe[:, x_nx], SteffenMonotonicInterpolation())\n",
    "        vf, pol = bellman(vfold, xgrid[x_nx])\n",
    "        vfall2[:, x_nx] = vf; polall[:, x_nx] = pol\n",
    "    end\n",
    "    end seconds = 1"
   ]
  },
  {
   "cell_type": "code",
   "execution_count": 5,
   "metadata": {},
   "outputs": [
    {
     "data": {
      "text/plain": [
       "true"
      ]
     },
     "execution_count": 5,
     "metadata": {},
     "output_type": "execute_result"
    }
   ],
   "source": [
    "all(vfall .== vfall2) "
   ]
  },
  {
   "cell_type": "code",
   "execution_count": 6,
   "metadata": {},
   "outputs": [],
   "source": [
    "# serial as above\n",
    "# multithreading. use @threads over x_nx\n",
    "# pmap use pmap over bellman (use a caching pool? \n",
    "# remote channels. setup channels which accept evf and x and return a vf\n",
    "# -- why is this better? less overhead?"
   ]
  },
  {
   "cell_type": "code",
   "execution_count": 7,
   "metadata": {},
   "outputs": [],
   "source": [
    "@everywhere module DM\n",
    "using Interpolations, Optim\n",
    "const agrid = exp.(range(log(1), stop = log(200), length = 100 ))\n",
    "const xgrid = 1:20\n",
    "uc(c) = c > 0 ? c^(-2.5)/-2.5 : -Inf\n",
    "u(a, ap, x) =  uc(a - ap + x)\n",
    "maxap(a, x) = a + x\n",
    "const beta = 0.96\n",
    "const P = rand(length(xgrid), length(xgrid))\n",
    "P .= P ./ sum(P, dims = 2) # markov chain\n",
    "function bellman(evf, x)\n",
    "    vf, pol = similar(evf), similar(evf)\n",
    "    for i in eachindex(vf)\n",
    "        a = agrid[i]\n",
    "        obj = ap -> -(u(a, ap, x) + beta * evf(ap))\n",
    "        upper = min(maxap(a, x), agrid[end])\n",
    "        sol = optimize(obj, agrid[1], .99*upper)\n",
    "        vf[i], pol[i] = -sol.minimum, sol.minimizer\n",
    "    end\n",
    "    return vf, pol\n",
    "end\n",
    "\n",
    "function expectation(bigvf, P)\n",
    "   evf = similar(bigvf)\n",
    "    for a_nx in 1:size(bigvf, 1)\n",
    "        for x_nx in 1:size(P, 1)\n",
    "        ev = 0.\n",
    "            for xp_nx in 1:size(P, 2)\n",
    "                ev += bigvf[a_nx, xp_nx] * P[x_nx, xp_nx]\n",
    "            end\n",
    "            evf[a_nx, x_nx] = ev\n",
    "        end\n",
    "    end\n",
    "    return evf\n",
    "end\n",
    "       \n",
    "end"
   ]
  },
  {
   "cell_type": "code",
   "execution_count": 8,
   "metadata": {},
   "outputs": [
    {
     "name": "stdout",
     "output_type": "stream",
     "text": [
      "  569.456 ms (230813 allocations: 32.86 MiB)\n"
     ]
    }
   ],
   "source": [
    "vfall3 = zeros(length(DM.agrid), length(DM.xgrid))\n",
    "polall = zeros(length(DM.agrid), length(DM.xgrid))\n",
    "@btime for i in 1:100\n",
    "    fill!(vfall3, 0)\n",
    "    fill!(polall, 0)\n",
    "    vfe = DM.expectation(vfall3, DM.P)\n",
    "    vfolds = [interpolate(DM.agrid, vfe[:, x_nx], SteffenMonotonicInterpolation()) for x_nx in eachindex(DM.xgrid)]\n",
    "    vfs_pols = pmap((vfold, x) -> DM.bellman(vfold, x), vfolds, DM.xgrid)\n",
    "    for x_nx in eachindex(DM.xgrid)\n",
    "        vfall3[:, x_nx] = vfs_pols[x_nx][1]; polall[:, x_nx] = vfs_pols[x_nx][2]\n",
    "    end\n",
    "    end seconds = 1"
   ]
  },
  {
   "cell_type": "code",
   "execution_count": 9,
   "metadata": {},
   "outputs": [
    {
     "data": {
      "text/plain": [
       "true"
      ]
     },
     "execution_count": 9,
     "metadata": {},
     "output_type": "execute_result"
    }
   ],
   "source": [
    "all(vfall .== vfall3)"
   ]
  },
  {
   "cell_type": "code",
   "execution_count": 10,
   "metadata": {},
   "outputs": [],
   "source": [
    "example_itp = interpolate(agrid, vfall3[:, 1], SteffenMonotonicInterpolation())\n",
    "intype = Tuple{typeof(example_itp), Float64, Int}\n",
    "outtype = Tuple{Vector{Float64}, Vector{Float64}, Int}\n",
    "const jobs = RemoteChannel(()->Channel{intype}(32));\n",
    "const results = RemoteChannel(()->Channel{outtype}(32));"
   ]
  },
  {
   "cell_type": "code",
   "execution_count": 11,
   "metadata": {},
   "outputs": [],
   "source": [
    "@everywhere function do_work(jobs, results) # define work function everywhere\n",
    "           while true\n",
    "               evf, x, x_nx = take!(jobs)\n",
    "               out = (DM.bellman(evf, x)..., x_nx)\n",
    "               put!(results, out)\n",
    "           end\n",
    "       end"
   ]
  },
  {
   "cell_type": "code",
   "execution_count": 12,
   "metadata": {},
   "outputs": [],
   "source": [
    "for p in workers() # start tasks on the workers to process requests in parallel\n",
    "           remote_do(do_work, p, jobs, results)\n",
    "end"
   ]
  },
  {
   "cell_type": "code",
   "execution_count": 13,
   "metadata": {},
   "outputs": [
    {
     "name": "stdout",
     "output_type": "stream",
     "text": [
      "  625.244 ms (457580 allocations: 49.79 MiB)\n"
     ]
    }
   ],
   "source": [
    "vfall4 = zeros(length(agrid), length(xgrid))\n",
    "polall = zeros(length(agrid), length(xgrid))\n",
    "@btime for i in 1:100\n",
    "    fill!(vfall4, 0)\n",
    "    fill!(polall, 0)\n",
    "    vfe = expectation(vfall4, P)\n",
    "    for x_nx in eachindex(xgrid)\n",
    "        vfold = interpolate(agrid, vfe[:, x_nx], SteffenMonotonicInterpolation())\n",
    "        put!(jobs, (vfold, xgrid[x_nx], x_nx))\n",
    "    end\n",
    "    ndone = 0\n",
    "    while ndone < length(xgrid)\n",
    "        vf, pol, x_nx = take!(results)\n",
    "        vfall4[:, x_nx] = vf; polall[:, x_nx] = pol; ndone += 1\n",
    "    end\n",
    "    end seconds = 1"
   ]
  },
  {
   "cell_type": "code",
   "execution_count": 14,
   "metadata": {},
   "outputs": [
    {
     "data": {
      "text/plain": [
       "true"
      ]
     },
     "execution_count": 14,
     "metadata": {},
     "output_type": "execute_result"
    }
   ],
   "source": [
    "all(vfall .== vfall4)"
   ]
  },
  {
   "cell_type": "code",
   "execution_count": 17,
   "metadata": {},
   "outputs": [
    {
     "name": "stdout",
     "output_type": "stream",
     "text": [
      "  172.324 μs (303 allocations: 22.09 KiB)\n"
     ]
    },
    {
     "data": {
      "text/plain": [
       "([-0.784, -0.733205, -0.683302, -0.636186, -0.591328, -0.548648, -0.508132, -0.469845, -0.433622, -0.399572  …  -2.56121e-5, -2.24281e-5, -1.96389e-5, -1.71957e-5, -1.50557e-5, -1.31815e-5, -1.154e-5, -1.01025e-5, -8.84377e-6, -7.74156e-6], [1.0, 1.02345, 1.05256, 1.08021, 1.11393, 1.14605, 1.18285, 1.21966, 1.25952, 1.30261  …  61.9469, 65.3274, 68.8938, 72.6562, 76.6256, 80.8132, 85.231, 89.8917, 94.8087, 99.996])"
      ]
     },
     "execution_count": 17,
     "metadata": {},
     "output_type": "execute_result"
    }
   ],
   "source": [
    "A = @btime bellman(example_itp, 1.) seconds = 1"
   ]
  },
  {
   "cell_type": "code",
   "execution_count": 19,
   "metadata": {},
   "outputs": [
    {
     "name": "stdout",
     "output_type": "stream",
     "text": [
      "  431.280 μs (220 allocations: 24.95 KiB)\n"
     ]
    },
    {
     "data": {
      "text/plain": [
       "([-0.784, -0.733205, -0.683302, -0.636186, -0.591328, -0.548648, -0.508132, -0.469845, -0.433622, -0.399572  …  -2.56121e-5, -2.24281e-5, -1.96389e-5, -1.71957e-5, -1.50557e-5, -1.31815e-5, -1.154e-5, -1.01025e-5, -8.84377e-6, -7.74156e-6], [1.0, 1.02345, 1.05256, 1.08021, 1.11393, 1.14605, 1.18285, 1.21966, 1.25952, 1.30261  …  61.9469, 65.3274, 68.8938, 72.6562, 76.6256, 80.8132, 85.231, 89.8917, 94.8087, 99.996], 1)"
      ]
     },
     "execution_count": 19,
     "metadata": {},
     "output_type": "execute_result"
    }
   ],
   "source": [
    "B = @btime begin \n",
    "    put!(jobs, (example_itp, 1., 1)); take!(results)\n",
    "    end seconds = 1"
   ]
  },
  {
   "cell_type": "markdown",
   "metadata": {},
   "source": [
    "Moral of the story: Distributed processing is not a good idea when your jobs take less than 1ms."
   ]
  }
 ],
 "metadata": {
  "kernelspec": {
   "display_name": "Julia 1.0.2",
   "language": "julia",
   "name": "julia-1.0"
  },
  "language_info": {
   "file_extension": ".jl",
   "mimetype": "application/julia",
   "name": "julia",
   "version": "1.0.2"
  }
 },
 "nbformat": 4,
 "nbformat_minor": 2
}
